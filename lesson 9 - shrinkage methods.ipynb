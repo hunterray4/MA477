{
 "cells": [
  {
   "cell_type": "markdown",
   "metadata": {},
   "source": [
    "<h2> ======================================================</h2>\n",
    " <h1>MA477 - Theory and Applications of Data Science</h1> \n",
    "  <h1>Lesson 9: Shrinkage Methods: Ridge & Lasso </h1> \n",
    " \n",
    " <h4>Dr. Valmir Bucaj</h4>\n",
    " United States Military Academy, West Point \n",
    "AY20-2\n",
    "<h2>======================================================</h2>"
   ]
  },
  {
   "cell_type": "markdown",
   "metadata": {},
   "source": [
    "<h2>Lecture Outline</h2>\n",
    "\n",
    "<ul>\n",
    "    <li>What are shrinkage methods and why do we need them?</li>\n",
    "    <li> Ridge Regression</li>\n",
    "    <li>Lasso Regression</li>\n",
    "    <li>Implementing Ridge & Lasso with Python</li>\n",
    " \n",
    "    \n",
    "</ul>"
   ]
  },
  {
   "cell_type": "markdown",
   "metadata": {},
   "source": [
    "<h3> Whats & Whys</h3>\n",
    "\n",
    "As the name suggests, shrinkage methods are a way of fitting a linear method using all of the predictors, but unlike least squares method, they <i> constrain/regularize</i> the estimated coefficiets; specifically, they <i> shrink</i> them towards zero.\n",
    "\n",
    "The two most popular techniques for shrinking the estimated regression coefficients are <b> Ridge Regression</b> and the <b> Lasso</b> method.\n",
    "\n",
    "We will discuss this in more detail shortly, but in a nutshell, it can be shown that shrinking the coefficients towards zero may significantly reduce the variance of the model. \n",
    "\n",
    "<h3> Ridge Regression</h3>\n",
    "\n",
    "Ridge regression is very simmilar to least squares method, except that in this case the coefficients are estimated by minimizing $RSS+\\ell^2-$regularization. That is, the ridge regression estimated coefficients $\\hat{\\beta}^R_{\\lambda}$ are the ones that minimize the following objective function:\n",
    "\n",
    "$$R(\\beta_0,\\dots,\\beta_p,\\lambda)=\\sum_{i=1}^n\\left(y_i-\\beta_0-\\sum_{j=1}^p\\beta_jx_{ij}\\right)^2+\\lambda\\sum_{j=1}^p\\beta_j^2=RSS+\\lambda||\\beta||_2^2,$$\n",
    "\n",
    "where $\\lambda\\geq 0$ is some tuning parameter.\n",
    "\n",
    "In ridge regression, for each $\\lambda$ we obtain a different set of estimated coefficients $\\hat{\\beta}^R_\\lambda$. Observe, that when $\\lambda=0$ we get back the least squares model. \n",
    "\n",
    "So, what doese exactly the extra regularization $\\lambda||\\beta||_2^2$ do? Note, that the goal is still to minimize $R(\\beta_0,\\dots,\\beta_p,\\lambda)$, and to do so there are two terms that need to be minimized, namely $RSS$ and the added regularization term $\\lambda||\\beta||_2^2,$ and in many ways they compete with one another. In particular, the regularization term is small when the coefficients $\\beta_0,\\dots,\\beta_p$ tend to zero. The role of the tuning parameter $\\lambda$ is precisely to control how much of an effect these two terms have in the model. Let's look at two extremes: If $\\lambda=0$ then, obviously, the second term has no impact in estimating the coefficeints. On the other hand, if $\\lambda\\to \\infty$(is very large), then in order for $R(\\beta_0,\\dots,\\beta_p,\\lambda)$ to be minimized all of the coefficients $\\beta_0,\\dots,\\beta_p$ must shrink towards zero. \n",
    "\n",
    "<b>Question 1:</b> Why is the shrinkage penalty applied only to $\\beta_1,\\dots,\\beta_p$ but not to the intercept $\\beta_0$?\n",
    "\n",
    "<h4>What does ridge regression accomplish that the least squares can't?</h4>\n",
    "\n",
    "At the core of the answer lies the <i> bias-variance trade-off</i>. As $\\lambda$ increases from $0$ to a large number, the flexibility of the model decreases. This results in a decrease in variance at the cost of an increase in bias. The hope is that, at least initially, the variance decreases much faster than the increase in bias, leading to an overall better performance(e.g. smaller test MSE) of the ridge regression over the simple least squares regression model. By shrinking, some or all of the coefficients, in effect we are regularizing the relative effect that a change in a feature has on the response. In other words, by increasing the tuning parameter $\\lambda$, in some sense we are constraining the magnitude of the change in the response variable that could be produced by a small change in a feature. \n",
    "\n",
    "<h3>The Lasso Method</h3>\n",
    "\n",
    "The idea behind the Lasso method is very similar to the ridge regression, except that now the lasso coefficient estimates $\\hat{\\beta}^L_\\lambda$, minimize the following quantity:\n",
    "\n",
    "\n",
    "$$L(\\beta_0,\\dots,\\beta_p,\\lambda)=\\sum_{i=1}^n\\left(y_i-\\beta_0-\\sum_{j=1}^p\\beta_jx_{ij}\\right)^2+\\lambda\\sum_{j=1}^p|\\beta_j|=RSS+\\lambda||\\beta||_1.$$\n",
    "\n",
    "In mathematical terms, $||\\beta||_1=\\sum_{j=1}^p|\\beta_j|$ is called the $\\ell^1-$norm.\n",
    "\n",
    "The key difference between the ridge regression and the Lasso method, is that while the lasso method also shrinks the coefficient estimates towards zero, the $\\ell^1-$penalty actually may force some of the coefficient estimates to be <b> exactly zero</b> when $\\lambda$ is sufficiently large. Because of this reason, Lasso has an added advantage towards the ridge regression, as it may be used for <i>feature selection</i> as well. In other words, intuitively speaking, if a feature is not contributing in a significant way to predict the response variable, then the lasso method has a higher chance of noticing this behaviour and setting the coefficent corresponding to this feature equal to zero. In situations like these, lasso also tends to outperform the ridge regression. \n",
    "\n",
    "Intrinsically, the lasso method in some ways assumes that some of the features do not play a significant role in predicting the response. Because of this, in the cases where all of the features play a similar role in predicting the response then ridge regression may outperform lasso. \n",
    "\n",
    "Unfortunately, we never know apriori which predictors are strongly related to the response and which are not. As a result, we rely on cross-validation and similar techniques to determine which model is the most appropriate one for each particular data set."
   ]
  },
  {
   "cell_type": "markdown",
   "metadata": {},
   "source": [
    "<h3>Implementing Ridge and Lasso</h3>\n",
    "\n",
    "We will use the `boston housting` dataset to illustrate the methods.\n",
    "\n",
    "Let's start by importing all of our standard libraries."
   ]
  },
  {
   "cell_type": "code",
   "execution_count": 1,
   "metadata": {},
   "outputs": [],
   "source": [
    "import numpy as np\n",
    "import pandas as pd"
   ]
  },
  {
   "cell_type": "code",
   "execution_count": 2,
   "metadata": {},
   "outputs": [],
   "source": [
    "import matplotlib.pyplot as plt\n",
    "import seaborn as sns"
   ]
  },
  {
   "cell_type": "code",
   "execution_count": 3,
   "metadata": {},
   "outputs": [],
   "source": [
    "from sklearn.datasets import load_boston"
   ]
  },
  {
   "cell_type": "code",
   "execution_count": 4,
   "metadata": {},
   "outputs": [],
   "source": [
    "boston=load_boston()"
   ]
  },
  {
   "cell_type": "code",
   "execution_count": 5,
   "metadata": {},
   "outputs": [],
   "source": [
    "df=pd.DataFrame(boston.data,columns=boston.feature_names)"
   ]
  },
  {
   "cell_type": "code",
   "execution_count": 6,
   "metadata": {},
   "outputs": [],
   "source": [
    "df['target']=boston.target"
   ]
  },
  {
   "cell_type": "code",
   "execution_count": 7,
   "metadata": {},
   "outputs": [
    {
     "data": {
      "text/html": [
       "<div>\n",
       "<style scoped>\n",
       "    .dataframe tbody tr th:only-of-type {\n",
       "        vertical-align: middle;\n",
       "    }\n",
       "\n",
       "    .dataframe tbody tr th {\n",
       "        vertical-align: top;\n",
       "    }\n",
       "\n",
       "    .dataframe thead th {\n",
       "        text-align: right;\n",
       "    }\n",
       "</style>\n",
       "<table border=\"1\" class=\"dataframe\">\n",
       "  <thead>\n",
       "    <tr style=\"text-align: right;\">\n",
       "      <th></th>\n",
       "      <th>CRIM</th>\n",
       "      <th>ZN</th>\n",
       "      <th>INDUS</th>\n",
       "      <th>CHAS</th>\n",
       "      <th>NOX</th>\n",
       "      <th>RM</th>\n",
       "      <th>AGE</th>\n",
       "      <th>DIS</th>\n",
       "      <th>RAD</th>\n",
       "      <th>TAX</th>\n",
       "      <th>PTRATIO</th>\n",
       "      <th>B</th>\n",
       "      <th>LSTAT</th>\n",
       "      <th>target</th>\n",
       "    </tr>\n",
       "  </thead>\n",
       "  <tbody>\n",
       "    <tr>\n",
       "      <td>0</td>\n",
       "      <td>0.00632</td>\n",
       "      <td>18.0</td>\n",
       "      <td>2.31</td>\n",
       "      <td>0.0</td>\n",
       "      <td>0.538</td>\n",
       "      <td>6.575</td>\n",
       "      <td>65.2</td>\n",
       "      <td>4.0900</td>\n",
       "      <td>1.0</td>\n",
       "      <td>296.0</td>\n",
       "      <td>15.3</td>\n",
       "      <td>396.90</td>\n",
       "      <td>4.98</td>\n",
       "      <td>24.0</td>\n",
       "    </tr>\n",
       "    <tr>\n",
       "      <td>1</td>\n",
       "      <td>0.02731</td>\n",
       "      <td>0.0</td>\n",
       "      <td>7.07</td>\n",
       "      <td>0.0</td>\n",
       "      <td>0.469</td>\n",
       "      <td>6.421</td>\n",
       "      <td>78.9</td>\n",
       "      <td>4.9671</td>\n",
       "      <td>2.0</td>\n",
       "      <td>242.0</td>\n",
       "      <td>17.8</td>\n",
       "      <td>396.90</td>\n",
       "      <td>9.14</td>\n",
       "      <td>21.6</td>\n",
       "    </tr>\n",
       "    <tr>\n",
       "      <td>2</td>\n",
       "      <td>0.02729</td>\n",
       "      <td>0.0</td>\n",
       "      <td>7.07</td>\n",
       "      <td>0.0</td>\n",
       "      <td>0.469</td>\n",
       "      <td>7.185</td>\n",
       "      <td>61.1</td>\n",
       "      <td>4.9671</td>\n",
       "      <td>2.0</td>\n",
       "      <td>242.0</td>\n",
       "      <td>17.8</td>\n",
       "      <td>392.83</td>\n",
       "      <td>4.03</td>\n",
       "      <td>34.7</td>\n",
       "    </tr>\n",
       "    <tr>\n",
       "      <td>3</td>\n",
       "      <td>0.03237</td>\n",
       "      <td>0.0</td>\n",
       "      <td>2.18</td>\n",
       "      <td>0.0</td>\n",
       "      <td>0.458</td>\n",
       "      <td>6.998</td>\n",
       "      <td>45.8</td>\n",
       "      <td>6.0622</td>\n",
       "      <td>3.0</td>\n",
       "      <td>222.0</td>\n",
       "      <td>18.7</td>\n",
       "      <td>394.63</td>\n",
       "      <td>2.94</td>\n",
       "      <td>33.4</td>\n",
       "    </tr>\n",
       "    <tr>\n",
       "      <td>4</td>\n",
       "      <td>0.06905</td>\n",
       "      <td>0.0</td>\n",
       "      <td>2.18</td>\n",
       "      <td>0.0</td>\n",
       "      <td>0.458</td>\n",
       "      <td>7.147</td>\n",
       "      <td>54.2</td>\n",
       "      <td>6.0622</td>\n",
       "      <td>3.0</td>\n",
       "      <td>222.0</td>\n",
       "      <td>18.7</td>\n",
       "      <td>396.90</td>\n",
       "      <td>5.33</td>\n",
       "      <td>36.2</td>\n",
       "    </tr>\n",
       "  </tbody>\n",
       "</table>\n",
       "</div>"
      ],
      "text/plain": [
       "      CRIM    ZN  INDUS  CHAS    NOX     RM   AGE     DIS  RAD    TAX  \\\n",
       "0  0.00632  18.0   2.31   0.0  0.538  6.575  65.2  4.0900  1.0  296.0   \n",
       "1  0.02731   0.0   7.07   0.0  0.469  6.421  78.9  4.9671  2.0  242.0   \n",
       "2  0.02729   0.0   7.07   0.0  0.469  7.185  61.1  4.9671  2.0  242.0   \n",
       "3  0.03237   0.0   2.18   0.0  0.458  6.998  45.8  6.0622  3.0  222.0   \n",
       "4  0.06905   0.0   2.18   0.0  0.458  7.147  54.2  6.0622  3.0  222.0   \n",
       "\n",
       "   PTRATIO       B  LSTAT  target  \n",
       "0     15.3  396.90   4.98    24.0  \n",
       "1     17.8  396.90   9.14    21.6  \n",
       "2     17.8  392.83   4.03    34.7  \n",
       "3     18.7  394.63   2.94    33.4  \n",
       "4     18.7  396.90   5.33    36.2  "
      ]
     },
     "execution_count": 7,
     "metadata": {},
     "output_type": "execute_result"
    }
   ],
   "source": [
    "df.head()"
   ]
  },
  {
   "cell_type": "markdown",
   "metadata": {},
   "source": [
    " We will begin by splitting our data into a training set `X_t` and a validation set `X_v`. The validation set will be used only after we have tuned our models to test the prediction power of our model."
   ]
  },
  {
   "cell_type": "code",
   "execution_count": 12,
   "metadata": {},
   "outputs": [],
   "source": [
    "from sklearn.model_selection import train_test_split"
   ]
  },
  {
   "cell_type": "code",
   "execution_count": 13,
   "metadata": {},
   "outputs": [],
   "source": [
    "X_t,X_v=train_test_split(df, test_size=0.25)"
   ]
  },
  {
   "cell_type": "code",
   "execution_count": 14,
   "metadata": {},
   "outputs": [
    {
     "data": {
      "text/html": [
       "<div>\n",
       "<style scoped>\n",
       "    .dataframe tbody tr th:only-of-type {\n",
       "        vertical-align: middle;\n",
       "    }\n",
       "\n",
       "    .dataframe tbody tr th {\n",
       "        vertical-align: top;\n",
       "    }\n",
       "\n",
       "    .dataframe thead th {\n",
       "        text-align: right;\n",
       "    }\n",
       "</style>\n",
       "<table border=\"1\" class=\"dataframe\">\n",
       "  <thead>\n",
       "    <tr style=\"text-align: right;\">\n",
       "      <th></th>\n",
       "      <th>CRIM</th>\n",
       "      <th>ZN</th>\n",
       "      <th>INDUS</th>\n",
       "      <th>CHAS</th>\n",
       "      <th>NOX</th>\n",
       "      <th>RM</th>\n",
       "      <th>AGE</th>\n",
       "      <th>DIS</th>\n",
       "      <th>RAD</th>\n",
       "      <th>TAX</th>\n",
       "      <th>PTRATIO</th>\n",
       "      <th>B</th>\n",
       "      <th>LSTAT</th>\n",
       "      <th>target</th>\n",
       "    </tr>\n",
       "  </thead>\n",
       "  <tbody>\n",
       "    <tr>\n",
       "      <td>42</td>\n",
       "      <td>0.14150</td>\n",
       "      <td>0.0</td>\n",
       "      <td>6.91</td>\n",
       "      <td>0.0</td>\n",
       "      <td>0.448</td>\n",
       "      <td>6.169</td>\n",
       "      <td>6.6</td>\n",
       "      <td>5.7209</td>\n",
       "      <td>3.0</td>\n",
       "      <td>233.0</td>\n",
       "      <td>17.9</td>\n",
       "      <td>383.37</td>\n",
       "      <td>5.81</td>\n",
       "      <td>25.3</td>\n",
       "    </tr>\n",
       "    <tr>\n",
       "      <td>397</td>\n",
       "      <td>7.67202</td>\n",
       "      <td>0.0</td>\n",
       "      <td>18.10</td>\n",
       "      <td>0.0</td>\n",
       "      <td>0.693</td>\n",
       "      <td>5.747</td>\n",
       "      <td>98.9</td>\n",
       "      <td>1.6334</td>\n",
       "      <td>24.0</td>\n",
       "      <td>666.0</td>\n",
       "      <td>20.2</td>\n",
       "      <td>393.10</td>\n",
       "      <td>19.92</td>\n",
       "      <td>8.5</td>\n",
       "    </tr>\n",
       "    <tr>\n",
       "      <td>278</td>\n",
       "      <td>0.07978</td>\n",
       "      <td>40.0</td>\n",
       "      <td>6.41</td>\n",
       "      <td>0.0</td>\n",
       "      <td>0.447</td>\n",
       "      <td>6.482</td>\n",
       "      <td>32.1</td>\n",
       "      <td>4.1403</td>\n",
       "      <td>4.0</td>\n",
       "      <td>254.0</td>\n",
       "      <td>17.6</td>\n",
       "      <td>396.90</td>\n",
       "      <td>7.19</td>\n",
       "      <td>29.1</td>\n",
       "    </tr>\n",
       "    <tr>\n",
       "      <td>120</td>\n",
       "      <td>0.06899</td>\n",
       "      <td>0.0</td>\n",
       "      <td>25.65</td>\n",
       "      <td>0.0</td>\n",
       "      <td>0.581</td>\n",
       "      <td>5.870</td>\n",
       "      <td>69.7</td>\n",
       "      <td>2.2577</td>\n",
       "      <td>2.0</td>\n",
       "      <td>188.0</td>\n",
       "      <td>19.1</td>\n",
       "      <td>389.15</td>\n",
       "      <td>14.37</td>\n",
       "      <td>22.0</td>\n",
       "    </tr>\n",
       "    <tr>\n",
       "      <td>222</td>\n",
       "      <td>0.62356</td>\n",
       "      <td>0.0</td>\n",
       "      <td>6.20</td>\n",
       "      <td>1.0</td>\n",
       "      <td>0.507</td>\n",
       "      <td>6.879</td>\n",
       "      <td>77.7</td>\n",
       "      <td>3.2721</td>\n",
       "      <td>8.0</td>\n",
       "      <td>307.0</td>\n",
       "      <td>17.4</td>\n",
       "      <td>390.39</td>\n",
       "      <td>9.93</td>\n",
       "      <td>27.5</td>\n",
       "    </tr>\n",
       "  </tbody>\n",
       "</table>\n",
       "</div>"
      ],
      "text/plain": [
       "        CRIM    ZN  INDUS  CHAS    NOX     RM   AGE     DIS   RAD    TAX  \\\n",
       "42   0.14150   0.0   6.91   0.0  0.448  6.169   6.6  5.7209   3.0  233.0   \n",
       "397  7.67202   0.0  18.10   0.0  0.693  5.747  98.9  1.6334  24.0  666.0   \n",
       "278  0.07978  40.0   6.41   0.0  0.447  6.482  32.1  4.1403   4.0  254.0   \n",
       "120  0.06899   0.0  25.65   0.0  0.581  5.870  69.7  2.2577   2.0  188.0   \n",
       "222  0.62356   0.0   6.20   1.0  0.507  6.879  77.7  3.2721   8.0  307.0   \n",
       "\n",
       "     PTRATIO       B  LSTAT  target  \n",
       "42      17.9  383.37   5.81    25.3  \n",
       "397     20.2  393.10  19.92     8.5  \n",
       "278     17.6  396.90   7.19    29.1  \n",
       "120     19.1  389.15  14.37    22.0  \n",
       "222     17.4  390.39   9.93    27.5  "
      ]
     },
     "execution_count": 14,
     "metadata": {},
     "output_type": "execute_result"
    }
   ],
   "source": [
    "X_t.head()"
   ]
  },
  {
   "cell_type": "markdown",
   "metadata": {},
   "source": [
    "Next, let's go ahead and import both Ridge Regression and Lasso models along with cross calidation "
   ]
  },
  {
   "cell_type": "code",
   "execution_count": 15,
   "metadata": {},
   "outputs": [],
   "source": [
    "from sklearn.model_selection import cross_validate, KFold\n",
    "from sklearn.linear_model import Ridge, Lasso, LinearRegression"
   ]
  },
  {
   "cell_type": "markdown",
   "metadata": {},
   "source": [
    "The data is not scaled so we need to rescale."
   ]
  },
  {
   "cell_type": "code",
   "execution_count": 16,
   "metadata": {},
   "outputs": [],
   "source": [
    "from sklearn.preprocessing import StandardScaler"
   ]
  },
  {
   "cell_type": "code",
   "execution_count": 17,
   "metadata": {},
   "outputs": [],
   "source": [
    "scaler=StandardScaler()\n"
   ]
  },
  {
   "cell_type": "code",
   "execution_count": 18,
   "metadata": {},
   "outputs": [],
   "source": [
    "X=X_t.drop('target',axis=1)\n",
    "y=X_t['target']"
   ]
  },
  {
   "cell_type": "code",
   "execution_count": 19,
   "metadata": {},
   "outputs": [
    {
     "data": {
      "text/plain": [
       "StandardScaler(copy=True, with_mean=True, with_std=True)"
      ]
     },
     "execution_count": 19,
     "metadata": {},
     "output_type": "execute_result"
    }
   ],
   "source": [
    "scaler.fit(X)"
   ]
  },
  {
   "cell_type": "code",
   "execution_count": 20,
   "metadata": {},
   "outputs": [],
   "source": [
    "mean=scaler.mean_\n",
    "std=scaler.scale_"
   ]
  },
  {
   "cell_type": "code",
   "execution_count": 21,
   "metadata": {},
   "outputs": [],
   "source": [
    "scaled=scaler.transform(X)"
   ]
  },
  {
   "cell_type": "code",
   "execution_count": 22,
   "metadata": {},
   "outputs": [],
   "source": [
    "X_sc=pd.DataFrame(scaled,columns=X.columns,index=X.index)"
   ]
  },
  {
   "cell_type": "code",
   "execution_count": 23,
   "metadata": {},
   "outputs": [
    {
     "data": {
      "text/html": [
       "<div>\n",
       "<style scoped>\n",
       "    .dataframe tbody tr th:only-of-type {\n",
       "        vertical-align: middle;\n",
       "    }\n",
       "\n",
       "    .dataframe tbody tr th {\n",
       "        vertical-align: top;\n",
       "    }\n",
       "\n",
       "    .dataframe thead th {\n",
       "        text-align: right;\n",
       "    }\n",
       "</style>\n",
       "<table border=\"1\" class=\"dataframe\">\n",
       "  <thead>\n",
       "    <tr style=\"text-align: right;\">\n",
       "      <th></th>\n",
       "      <th>CRIM</th>\n",
       "      <th>ZN</th>\n",
       "      <th>INDUS</th>\n",
       "      <th>CHAS</th>\n",
       "      <th>NOX</th>\n",
       "      <th>RM</th>\n",
       "      <th>AGE</th>\n",
       "      <th>DIS</th>\n",
       "      <th>RAD</th>\n",
       "      <th>TAX</th>\n",
       "      <th>PTRATIO</th>\n",
       "      <th>B</th>\n",
       "      <th>LSTAT</th>\n",
       "    </tr>\n",
       "  </thead>\n",
       "  <tbody>\n",
       "    <tr>\n",
       "      <td>42</td>\n",
       "      <td>-0.388114</td>\n",
       "      <td>-0.507958</td>\n",
       "      <td>-0.599385</td>\n",
       "      <td>-0.271393</td>\n",
       "      <td>-0.928176</td>\n",
       "      <td>-0.161848</td>\n",
       "      <td>-2.203463</td>\n",
       "      <td>0.864399</td>\n",
       "      <td>-0.743283</td>\n",
       "      <td>-1.043172</td>\n",
       "      <td>-0.222388</td>\n",
       "      <td>0.300356</td>\n",
       "      <td>-0.951221</td>\n",
       "    </tr>\n",
       "    <tr>\n",
       "      <td>397</td>\n",
       "      <td>0.467611</td>\n",
       "      <td>-0.507958</td>\n",
       "      <td>1.040360</td>\n",
       "      <td>-0.271393</td>\n",
       "      <td>1.216512</td>\n",
       "      <td>-0.754129</td>\n",
       "      <td>1.080236</td>\n",
       "      <td>-1.029112</td>\n",
       "      <td>1.683209</td>\n",
       "      <td>1.546642</td>\n",
       "      <td>0.814273</td>\n",
       "      <td>0.407034</td>\n",
       "      <td>1.043851</td>\n",
       "    </tr>\n",
       "    <tr>\n",
       "      <td>278</td>\n",
       "      <td>-0.395127</td>\n",
       "      <td>1.193841</td>\n",
       "      <td>-0.672654</td>\n",
       "      <td>-0.271393</td>\n",
       "      <td>-0.936930</td>\n",
       "      <td>0.277450</td>\n",
       "      <td>-1.296266</td>\n",
       "      <td>0.132195</td>\n",
       "      <td>-0.627736</td>\n",
       "      <td>-0.917569</td>\n",
       "      <td>-0.357605</td>\n",
       "      <td>0.448697</td>\n",
       "      <td>-0.756097</td>\n",
       "    </tr>\n",
       "    <tr>\n",
       "      <td>120</td>\n",
       "      <td>-0.396353</td>\n",
       "      <td>-0.507958</td>\n",
       "      <td>2.146712</td>\n",
       "      <td>-0.271393</td>\n",
       "      <td>0.236083</td>\n",
       "      <td>-0.581497</td>\n",
       "      <td>0.041406</td>\n",
       "      <td>-0.739908</td>\n",
       "      <td>-0.858830</td>\n",
       "      <td>-1.312322</td>\n",
       "      <td>0.318479</td>\n",
       "      <td>0.363727</td>\n",
       "      <td>0.259113</td>\n",
       "    </tr>\n",
       "    <tr>\n",
       "      <td>222</td>\n",
       "      <td>-0.333335</td>\n",
       "      <td>-0.507958</td>\n",
       "      <td>-0.703426</td>\n",
       "      <td>3.684688</td>\n",
       "      <td>-0.411700</td>\n",
       "      <td>0.834644</td>\n",
       "      <td>0.326017</td>\n",
       "      <td>-0.269993</td>\n",
       "      <td>-0.165547</td>\n",
       "      <td>-0.600571</td>\n",
       "      <td>-0.447749</td>\n",
       "      <td>0.377322</td>\n",
       "      <td>-0.368677</td>\n",
       "    </tr>\n",
       "  </tbody>\n",
       "</table>\n",
       "</div>"
      ],
      "text/plain": [
       "         CRIM        ZN     INDUS      CHAS       NOX        RM       AGE  \\\n",
       "42  -0.388114 -0.507958 -0.599385 -0.271393 -0.928176 -0.161848 -2.203463   \n",
       "397  0.467611 -0.507958  1.040360 -0.271393  1.216512 -0.754129  1.080236   \n",
       "278 -0.395127  1.193841 -0.672654 -0.271393 -0.936930  0.277450 -1.296266   \n",
       "120 -0.396353 -0.507958  2.146712 -0.271393  0.236083 -0.581497  0.041406   \n",
       "222 -0.333335 -0.507958 -0.703426  3.684688 -0.411700  0.834644  0.326017   \n",
       "\n",
       "          DIS       RAD       TAX   PTRATIO         B     LSTAT  \n",
       "42   0.864399 -0.743283 -1.043172 -0.222388  0.300356 -0.951221  \n",
       "397 -1.029112  1.683209  1.546642  0.814273  0.407034  1.043851  \n",
       "278  0.132195 -0.627736 -0.917569 -0.357605  0.448697 -0.756097  \n",
       "120 -0.739908 -0.858830 -1.312322  0.318479  0.363727  0.259113  \n",
       "222 -0.269993 -0.165547 -0.600571 -0.447749  0.377322 -0.368677  "
      ]
     },
     "execution_count": 23,
     "metadata": {},
     "output_type": "execute_result"
    }
   ],
   "source": [
    "X_sc.head()"
   ]
  },
  {
   "cell_type": "code",
   "execution_count": 24,
   "metadata": {},
   "outputs": [],
   "source": [
    "lasso=Lasso(alpha=1.25)\n",
    "ridge=Ridge(alpha=1.25)"
   ]
  },
  {
   "cell_type": "code",
   "execution_count": 25,
   "metadata": {},
   "outputs": [],
   "source": [
    "kf=KFold(n_splits=5,shuffle=True, random_state=101)"
   ]
  },
  {
   "cell_type": "code",
   "execution_count": 26,
   "metadata": {},
   "outputs": [],
   "source": [
    "cv_lasso=cross_validate(estimator=lasso,X=X_sc,y=y,cv=kf, return_estimator=True,\n",
    "                        scoring={'r2','neg_mean_squared_error'})\n",
    "cv_ridge=cross_validate(estimator=ridge,X=X_sc,y=y,cv=kf, return_estimator=True,\n",
    "                        scoring={'r2','neg_mean_squared_error'})"
   ]
  },
  {
   "cell_type": "code",
   "execution_count": 29,
   "metadata": {},
   "outputs": [],
   "source": [
    "# import sklearn\n",
    "# sorted(sklearn.metrics.SCORERS.keys())"
   ]
  },
  {
   "cell_type": "code",
   "execution_count": 30,
   "metadata": {
    "scrolled": false
   },
   "outputs": [
    {
     "data": {
      "text/plain": [
       "array([25.8697042 , 31.34915688, 23.18919892, 44.61153244, 37.71695713])"
      ]
     },
     "execution_count": 30,
     "metadata": {},
     "output_type": "execute_result"
    }
   ],
   "source": [
    "-cv_lasso['test_neg_mean_squared_error']"
   ]
  },
  {
   "cell_type": "code",
   "execution_count": 31,
   "metadata": {},
   "outputs": [
    {
     "data": {
      "text/plain": [
       "array([23.35721723, 26.51049929, 16.69780086, 34.7833861 , 29.23859753])"
      ]
     },
     "execution_count": 31,
     "metadata": {},
     "output_type": "execute_result"
    }
   ],
   "source": [
    "-cv_ridge['test_neg_mean_squared_error']"
   ]
  },
  {
   "cell_type": "code",
   "execution_count": 34,
   "metadata": {},
   "outputs": [
    {
     "data": {
      "text/plain": [
       "0.6368240554347988"
      ]
     },
     "execution_count": 34,
     "metadata": {},
     "output_type": "execute_result"
    }
   ],
   "source": [
    "cv_lasso['test_r2'].mean()"
   ]
  },
  {
   "cell_type": "code",
   "execution_count": 35,
   "metadata": {},
   "outputs": [
    {
     "data": {
      "text/plain": [
       "0.7074690174030739"
      ]
     },
     "execution_count": 35,
     "metadata": {},
     "output_type": "execute_result"
    }
   ],
   "source": [
    "cv_ridge['test_r2'].mean()"
   ]
  },
  {
   "cell_type": "code",
   "execution_count": 40,
   "metadata": {},
   "outputs": [
    {
     "data": {
      "text/plain": [
       "Lasso(alpha=1.25, copy_X=True, fit_intercept=True, max_iter=1000,\n",
       "      normalize=False, positive=False, precompute=False, random_state=None,\n",
       "      selection='cyclic', tol=0.0001, warm_start=False)"
      ]
     },
     "execution_count": 40,
     "metadata": {},
     "output_type": "execute_result"
    }
   ],
   "source": [
    "#returns the fitted model from the first fold\n",
    "cv_lasso['estimator'][0]"
   ]
  },
  {
   "cell_type": "code",
   "execution_count": 41,
   "metadata": {},
   "outputs": [
    {
     "data": {
      "text/plain": [
       "array([-0.        ,  0.        , -0.        ,  0.32041252, -0.        ,\n",
       "        2.17881201,  0.        , -0.        , -0.        , -0.        ,\n",
       "       -1.26179201,  0.        , -4.05683153])"
      ]
     },
     "execution_count": 41,
     "metadata": {},
     "output_type": "execute_result"
    }
   ],
   "source": [
    "#returns the fitted model coefecients from the first fold\n",
    "cv_lasso['estimator'][0].coef_"
   ]
  },
  {
   "cell_type": "markdown",
   "metadata": {},
   "source": [
    "Let's get the coefficients for both models."
   ]
  },
  {
   "cell_type": "code",
   "execution_count": 42,
   "metadata": {},
   "outputs": [],
   "source": [
    "df_lasso=pd.DataFrame(cv_lasso['estimator'][3].coef_,index=X.columns,columns=['Lasso'])"
   ]
  },
  {
   "cell_type": "code",
   "execution_count": 43,
   "metadata": {},
   "outputs": [],
   "source": [
    "df_ridge=pd.DataFrame(cv_ridge['estimator'][3].coef_,index=X.columns,columns=['Ridge'])"
   ]
  },
  {
   "cell_type": "code",
   "execution_count": 44,
   "metadata": {},
   "outputs": [
    {
     "data": {
      "text/html": [
       "<div>\n",
       "<style scoped>\n",
       "    .dataframe tbody tr th:only-of-type {\n",
       "        vertical-align: middle;\n",
       "    }\n",
       "\n",
       "    .dataframe tbody tr th {\n",
       "        vertical-align: top;\n",
       "    }\n",
       "\n",
       "    .dataframe thead th {\n",
       "        text-align: right;\n",
       "    }\n",
       "</style>\n",
       "<table border=\"1\" class=\"dataframe\">\n",
       "  <thead>\n",
       "    <tr style=\"text-align: right;\">\n",
       "      <th></th>\n",
       "      <th>Lasso</th>\n",
       "    </tr>\n",
       "  </thead>\n",
       "  <tbody>\n",
       "    <tr>\n",
       "      <td>CRIM</td>\n",
       "      <td>-0.000000</td>\n",
       "    </tr>\n",
       "    <tr>\n",
       "      <td>ZN</td>\n",
       "      <td>0.000000</td>\n",
       "    </tr>\n",
       "    <tr>\n",
       "      <td>INDUS</td>\n",
       "      <td>-0.000000</td>\n",
       "    </tr>\n",
       "    <tr>\n",
       "      <td>CHAS</td>\n",
       "      <td>0.000000</td>\n",
       "    </tr>\n",
       "    <tr>\n",
       "      <td>NOX</td>\n",
       "      <td>-0.000000</td>\n",
       "    </tr>\n",
       "    <tr>\n",
       "      <td>RM</td>\n",
       "      <td>2.822962</td>\n",
       "    </tr>\n",
       "    <tr>\n",
       "      <td>AGE</td>\n",
       "      <td>-0.000000</td>\n",
       "    </tr>\n",
       "    <tr>\n",
       "      <td>DIS</td>\n",
       "      <td>-0.000000</td>\n",
       "    </tr>\n",
       "    <tr>\n",
       "      <td>RAD</td>\n",
       "      <td>-0.000000</td>\n",
       "    </tr>\n",
       "    <tr>\n",
       "      <td>TAX</td>\n",
       "      <td>-0.000000</td>\n",
       "    </tr>\n",
       "    <tr>\n",
       "      <td>PTRATIO</td>\n",
       "      <td>-1.170910</td>\n",
       "    </tr>\n",
       "    <tr>\n",
       "      <td>B</td>\n",
       "      <td>0.000000</td>\n",
       "    </tr>\n",
       "    <tr>\n",
       "      <td>LSTAT</td>\n",
       "      <td>-3.683702</td>\n",
       "    </tr>\n",
       "  </tbody>\n",
       "</table>\n",
       "</div>"
      ],
      "text/plain": [
       "            Lasso\n",
       "CRIM    -0.000000\n",
       "ZN       0.000000\n",
       "INDUS   -0.000000\n",
       "CHAS     0.000000\n",
       "NOX     -0.000000\n",
       "RM       2.822962\n",
       "AGE     -0.000000\n",
       "DIS     -0.000000\n",
       "RAD     -0.000000\n",
       "TAX     -0.000000\n",
       "PTRATIO -1.170910\n",
       "B        0.000000\n",
       "LSTAT   -3.683702"
      ]
     },
     "execution_count": 44,
     "metadata": {},
     "output_type": "execute_result"
    }
   ],
   "source": [
    "df_lasso"
   ]
  },
  {
   "cell_type": "code",
   "execution_count": 45,
   "metadata": {},
   "outputs": [
    {
     "data": {
      "text/html": [
       "<div>\n",
       "<style scoped>\n",
       "    .dataframe tbody tr th:only-of-type {\n",
       "        vertical-align: middle;\n",
       "    }\n",
       "\n",
       "    .dataframe tbody tr th {\n",
       "        vertical-align: top;\n",
       "    }\n",
       "\n",
       "    .dataframe thead th {\n",
       "        text-align: right;\n",
       "    }\n",
       "</style>\n",
       "<table border=\"1\" class=\"dataframe\">\n",
       "  <thead>\n",
       "    <tr style=\"text-align: right;\">\n",
       "      <th></th>\n",
       "      <th>Ridge</th>\n",
       "    </tr>\n",
       "  </thead>\n",
       "  <tbody>\n",
       "    <tr>\n",
       "      <td>CRIM</td>\n",
       "      <td>-0.800442</td>\n",
       "    </tr>\n",
       "    <tr>\n",
       "      <td>ZN</td>\n",
       "      <td>1.212263</td>\n",
       "    </tr>\n",
       "    <tr>\n",
       "      <td>INDUS</td>\n",
       "      <td>0.523053</td>\n",
       "    </tr>\n",
       "    <tr>\n",
       "      <td>CHAS</td>\n",
       "      <td>0.346944</td>\n",
       "    </tr>\n",
       "    <tr>\n",
       "      <td>NOX</td>\n",
       "      <td>-1.661305</td>\n",
       "    </tr>\n",
       "    <tr>\n",
       "      <td>RM</td>\n",
       "      <td>3.095930</td>\n",
       "    </tr>\n",
       "    <tr>\n",
       "      <td>AGE</td>\n",
       "      <td>0.334709</td>\n",
       "    </tr>\n",
       "    <tr>\n",
       "      <td>DIS</td>\n",
       "      <td>-2.669941</td>\n",
       "    </tr>\n",
       "    <tr>\n",
       "      <td>RAD</td>\n",
       "      <td>2.916420</td>\n",
       "    </tr>\n",
       "    <tr>\n",
       "      <td>TAX</td>\n",
       "      <td>-2.590674</td>\n",
       "    </tr>\n",
       "    <tr>\n",
       "      <td>PTRATIO</td>\n",
       "      <td>-1.947477</td>\n",
       "    </tr>\n",
       "    <tr>\n",
       "      <td>B</td>\n",
       "      <td>0.797853</td>\n",
       "    </tr>\n",
       "    <tr>\n",
       "      <td>LSTAT</td>\n",
       "      <td>-4.129194</td>\n",
       "    </tr>\n",
       "  </tbody>\n",
       "</table>\n",
       "</div>"
      ],
      "text/plain": [
       "            Ridge\n",
       "CRIM    -0.800442\n",
       "ZN       1.212263\n",
       "INDUS    0.523053\n",
       "CHAS     0.346944\n",
       "NOX     -1.661305\n",
       "RM       3.095930\n",
       "AGE      0.334709\n",
       "DIS     -2.669941\n",
       "RAD      2.916420\n",
       "TAX     -2.590674\n",
       "PTRATIO -1.947477\n",
       "B        0.797853\n",
       "LSTAT   -4.129194"
      ]
     },
     "execution_count": 45,
     "metadata": {},
     "output_type": "execute_result"
    }
   ],
   "source": [
    "df_ridge"
   ]
  },
  {
   "cell_type": "markdown",
   "metadata": {},
   "source": [
    "Next, let's join these frames into one, for presentation purposes."
   ]
  },
  {
   "cell_type": "code",
   "execution_count": 47,
   "metadata": {},
   "outputs": [
    {
     "data": {
      "text/html": [
       "<div>\n",
       "<style scoped>\n",
       "    .dataframe tbody tr th:only-of-type {\n",
       "        vertical-align: middle;\n",
       "    }\n",
       "\n",
       "    .dataframe tbody tr th {\n",
       "        vertical-align: top;\n",
       "    }\n",
       "\n",
       "    .dataframe thead th {\n",
       "        text-align: right;\n",
       "    }\n",
       "</style>\n",
       "<table border=\"1\" class=\"dataframe\">\n",
       "  <thead>\n",
       "    <tr style=\"text-align: right;\">\n",
       "      <th></th>\n",
       "      <th>Lasso</th>\n",
       "      <th>Ridge</th>\n",
       "    </tr>\n",
       "  </thead>\n",
       "  <tbody>\n",
       "    <tr>\n",
       "      <td>CRIM</td>\n",
       "      <td>-0.000000</td>\n",
       "      <td>-0.800442</td>\n",
       "    </tr>\n",
       "    <tr>\n",
       "      <td>ZN</td>\n",
       "      <td>0.000000</td>\n",
       "      <td>1.212263</td>\n",
       "    </tr>\n",
       "    <tr>\n",
       "      <td>INDUS</td>\n",
       "      <td>-0.000000</td>\n",
       "      <td>0.523053</td>\n",
       "    </tr>\n",
       "    <tr>\n",
       "      <td>CHAS</td>\n",
       "      <td>0.000000</td>\n",
       "      <td>0.346944</td>\n",
       "    </tr>\n",
       "    <tr>\n",
       "      <td>NOX</td>\n",
       "      <td>-0.000000</td>\n",
       "      <td>-1.661305</td>\n",
       "    </tr>\n",
       "    <tr>\n",
       "      <td>RM</td>\n",
       "      <td>2.822962</td>\n",
       "      <td>3.095930</td>\n",
       "    </tr>\n",
       "    <tr>\n",
       "      <td>AGE</td>\n",
       "      <td>-0.000000</td>\n",
       "      <td>0.334709</td>\n",
       "    </tr>\n",
       "    <tr>\n",
       "      <td>DIS</td>\n",
       "      <td>-0.000000</td>\n",
       "      <td>-2.669941</td>\n",
       "    </tr>\n",
       "    <tr>\n",
       "      <td>RAD</td>\n",
       "      <td>-0.000000</td>\n",
       "      <td>2.916420</td>\n",
       "    </tr>\n",
       "    <tr>\n",
       "      <td>TAX</td>\n",
       "      <td>-0.000000</td>\n",
       "      <td>-2.590674</td>\n",
       "    </tr>\n",
       "    <tr>\n",
       "      <td>PTRATIO</td>\n",
       "      <td>-1.170910</td>\n",
       "      <td>-1.947477</td>\n",
       "    </tr>\n",
       "    <tr>\n",
       "      <td>B</td>\n",
       "      <td>0.000000</td>\n",
       "      <td>0.797853</td>\n",
       "    </tr>\n",
       "    <tr>\n",
       "      <td>LSTAT</td>\n",
       "      <td>-3.683702</td>\n",
       "      <td>-4.129194</td>\n",
       "    </tr>\n",
       "  </tbody>\n",
       "</table>\n",
       "</div>"
      ],
      "text/plain": [
       "            Lasso     Ridge\n",
       "CRIM    -0.000000 -0.800442\n",
       "ZN       0.000000  1.212263\n",
       "INDUS   -0.000000  0.523053\n",
       "CHAS     0.000000  0.346944\n",
       "NOX     -0.000000 -1.661305\n",
       "RM       2.822962  3.095930\n",
       "AGE     -0.000000  0.334709\n",
       "DIS     -0.000000 -2.669941\n",
       "RAD     -0.000000  2.916420\n",
       "TAX     -0.000000 -2.590674\n",
       "PTRATIO -1.170910 -1.947477\n",
       "B        0.000000  0.797853\n",
       "LSTAT   -3.683702 -4.129194"
      ]
     },
     "execution_count": 47,
     "metadata": {},
     "output_type": "execute_result"
    }
   ],
   "source": [
    "#pairs the two data frames together. on=df_lasso.index says 'use the index from the lasso data set for the new df\n",
    "df_lasso.join(df_ridge,on=df_lasso.index)"
   ]
  },
  {
   "cell_type": "markdown",
   "metadata": {},
   "source": [
    "As we can see, Lasso has set some of the coefficients exactly to zero. The inerpretation is that the model does not rely at all, for example, on `CRIM, ZN,INDUS, CHAS, NOX, AGE, DIS, RAD, TAX, B` to make predictions on the price of a house it has not previously seen. If we increase the value of $\\lambda$ more of the predictors will be set to zero in the lasso method. "
   ]
  },
  {
   "cell_type": "markdown",
   "metadata": {},
   "source": [
    "<font size=4 color='red'>Exercise</font>\n",
    "\n",
    "Tune the model. In other words, search for the best `alpha` that results in the lowest MSE and highest R2 score. Then plot both MSE and R2 as a function of `alpha`. Pick the best alpha for each model and test the power of your model using the validation set `X_v`."
   ]
  },
  {
   "cell_type": "code",
   "execution_count": 907,
   "metadata": {},
   "outputs": [
    {
     "data": {
      "text/html": [
       "<div>\n",
       "<style scoped>\n",
       "    .dataframe tbody tr th:only-of-type {\n",
       "        vertical-align: middle;\n",
       "    }\n",
       "\n",
       "    .dataframe tbody tr th {\n",
       "        vertical-align: top;\n",
       "    }\n",
       "\n",
       "    .dataframe thead th {\n",
       "        text-align: right;\n",
       "    }\n",
       "</style>\n",
       "<table border=\"1\" class=\"dataframe\">\n",
       "  <thead>\n",
       "    <tr style=\"text-align: right;\">\n",
       "      <th></th>\n",
       "      <th>CRIM</th>\n",
       "      <th>ZN</th>\n",
       "      <th>INDUS</th>\n",
       "      <th>CHAS</th>\n",
       "      <th>NOX</th>\n",
       "      <th>RM</th>\n",
       "      <th>AGE</th>\n",
       "      <th>DIS</th>\n",
       "      <th>RAD</th>\n",
       "      <th>TAX</th>\n",
       "      <th>PTRATIO</th>\n",
       "      <th>B</th>\n",
       "      <th>LSTAT</th>\n",
       "    </tr>\n",
       "  </thead>\n",
       "  <tbody>\n",
       "    <tr>\n",
       "      <td>163</td>\n",
       "      <td>-0.261403</td>\n",
       "      <td>-0.500283</td>\n",
       "      <td>1.276804</td>\n",
       "      <td>3.610684</td>\n",
       "      <td>0.448184</td>\n",
       "      <td>2.834402</td>\n",
       "      <td>0.915438</td>\n",
       "      <td>-0.783159</td>\n",
       "      <td>-0.524739</td>\n",
       "      <td>-0.005680</td>\n",
       "      <td>-1.704989</td>\n",
       "      <td>0.347039</td>\n",
       "      <td>-1.258582</td>\n",
       "    </tr>\n",
       "    <tr>\n",
       "      <td>300</td>\n",
       "      <td>-0.460851</td>\n",
       "      <td>2.382853</td>\n",
       "      <td>-1.290610</td>\n",
       "      <td>-0.276956</td>\n",
       "      <td>-1.315903</td>\n",
       "      <td>0.772790</td>\n",
       "      <td>-0.753286</td>\n",
       "      <td>1.923374</td>\n",
       "      <td>-0.524739</td>\n",
       "      <td>-0.274012</td>\n",
       "      <td>-1.659039</td>\n",
       "      <td>0.373819</td>\n",
       "      <td>-0.877941</td>\n",
       "    </tr>\n",
       "    <tr>\n",
       "      <td>118</td>\n",
       "      <td>-0.449165</td>\n",
       "      <td>-0.500283</td>\n",
       "      <td>-0.140160</td>\n",
       "      <td>-0.276956</td>\n",
       "      <td>-0.050923</td>\n",
       "      <td>-0.596592</td>\n",
       "      <td>0.168998</td>\n",
       "      <td>-0.632446</td>\n",
       "      <td>-0.409782</td>\n",
       "      <td>0.167246</td>\n",
       "      <td>-0.280548</td>\n",
       "      <td>-0.206566</td>\n",
       "      <td>0.409317</td>\n",
       "    </tr>\n",
       "    <tr>\n",
       "      <td>113</td>\n",
       "      <td>-0.436786</td>\n",
       "      <td>-0.500283</td>\n",
       "      <td>-0.140160</td>\n",
       "      <td>-0.276956</td>\n",
       "      <td>-0.050923</td>\n",
       "      <td>-0.295026</td>\n",
       "      <td>0.969267</td>\n",
       "      <td>-0.598768</td>\n",
       "      <td>-0.409782</td>\n",
       "      <td>0.167246</td>\n",
       "      <td>-0.280548</td>\n",
       "      <td>0.440936</td>\n",
       "      <td>0.647391</td>\n",
       "    </tr>\n",
       "    <tr>\n",
       "      <td>484</td>\n",
       "      <td>-0.145163</td>\n",
       "      <td>-0.500283</td>\n",
       "      <td>1.057670</td>\n",
       "      <td>-0.276956</td>\n",
       "      <td>0.258867</td>\n",
       "      <td>-0.597963</td>\n",
       "      <td>-0.950661</td>\n",
       "      <td>-0.036997</td>\n",
       "      <td>1.659449</td>\n",
       "      <td>1.562573</td>\n",
       "      <td>0.822245</td>\n",
       "      <td>0.150133</td>\n",
       "      <td>0.128335</td>\n",
       "    </tr>\n",
       "  </tbody>\n",
       "</table>\n",
       "</div>"
      ],
      "text/plain": [
       "         CRIM        ZN     INDUS      CHAS       NOX        RM       AGE  \\\n",
       "163 -0.261403 -0.500283  1.276804  3.610684  0.448184  2.834402  0.915438   \n",
       "300 -0.460851  2.382853 -1.290610 -0.276956 -1.315903  0.772790 -0.753286   \n",
       "118 -0.449165 -0.500283 -0.140160 -0.276956 -0.050923 -0.596592  0.168998   \n",
       "113 -0.436786 -0.500283 -0.140160 -0.276956 -0.050923 -0.295026  0.969267   \n",
       "484 -0.145163 -0.500283  1.057670 -0.276956  0.258867 -0.597963 -0.950661   \n",
       "\n",
       "          DIS       RAD       TAX   PTRATIO         B     LSTAT  \n",
       "163 -0.783159 -0.524739 -0.005680 -1.704989  0.347039 -1.258582  \n",
       "300  1.923374 -0.524739 -0.274012 -1.659039  0.373819 -0.877941  \n",
       "118 -0.632446 -0.409782  0.167246 -0.280548 -0.206566  0.409317  \n",
       "113 -0.598768 -0.409782  0.167246 -0.280548  0.440936  0.647391  \n",
       "484 -0.036997  1.659449  1.562573  0.822245  0.150133  0.128335  "
      ]
     },
     "execution_count": 907,
     "metadata": {},
     "output_type": "execute_result"
    }
   ],
   "source": [
    "X_sc.head()"
   ]
  },
  {
   "cell_type": "code",
   "execution_count": 50,
   "metadata": {},
   "outputs": [],
   "source": [
    "#Start Your Answer Here\n",
    "param_alpha=np.arange(0.0001,10,0.1)\n",
    "kf=KFold(n_splits=5,shuffle=True, random_state=101)"
   ]
  },
  {
   "cell_type": "code",
   "execution_count": 57,
   "metadata": {},
   "outputs": [],
   "source": [
    "mse_lasso,r2_lasso,mse_ridge,r2_ridge=[],[],[],[]\n",
    "\n",
    "for param in param_alpha:\n",
    "    lasso=Lasso(alpha=param)\n",
    "    ridge=Ridge(alpha=param)\n",
    "    \n",
    "    \n",
    "    cv_lasso=cross_validate(estimator=lasso,X=X_sc,y=y,cv=kf, return_estimator=True,\n",
    "                        scoring={'r2','neg_mean_squared_error'})\n",
    "    cv_ridge=cross_validate(estimator=ridge,X=X_sc,y=y,cv=kf, return_estimator=True,\n",
    "                        scoring={'r2','neg_mean_squared_error'})\n",
    "    mse_lasso.append(-cv_lasso['test_neg_mean_squared_error'].mean())\n",
    "    mse_ridge.append(-cv_ridge['test_neg_mean_squared_error'].mean())\n",
    "    \n",
    "    r2_lasso.append(cv_lasso['test_r2'].mean())\n",
    "    r2_ridge.append(cv_ridge['test_r2'].mean())\n",
    "    "
   ]
  },
  {
   "cell_type": "code",
   "execution_count": null,
   "metadata": {},
   "outputs": [],
   "source": []
  },
  {
   "cell_type": "code",
   "execution_count": null,
   "metadata": {},
   "outputs": [],
   "source": []
  },
  {
   "cell_type": "code",
   "execution_count": null,
   "metadata": {},
   "outputs": [],
   "source": []
  },
  {
   "cell_type": "code",
   "execution_count": 60,
   "metadata": {
    "scrolled": false
   },
   "outputs": [
    {
     "data": {
      "text/plain": [
       "<matplotlib.legend.Legend at 0x181472cef48>"
      ]
     },
     "execution_count": 60,
     "metadata": {},
     "output_type": "execute_result"
    },
    {
     "data": {
      "image/png": "[encoded data removed]",
      "text/plain": [
       "<Figure size 576x432 with 1 Axes>"
      ]
     },
     "metadata": {},
     "output_type": "display_data"
    }
   ],
   "source": [
    "sns.set_style('whitegrid')\n",
    "\n",
    "param_alpha=np.arange(0.001,10,0.1)\n",
    "\n",
    "fig=plt.figure(figsize=(8,6))\n",
    "\n",
    "axes=fig.add_axes([0,0,1,1])\n",
    "\n",
    "axes.plot(param_alpha,mse_lasso, linestyle='-.',lw=3,label='Lasso')\n",
    "axes.plot(param_alpha,mse_ridge,ls='--',lw=3,label='Ridge')\n",
    "\n",
    "axes.set_xlabel(\"Alpha\",fontsize=14)\n",
    "axes.set_ylabel(\"Mean MSE from CV\",fontsize=14)\n",
    "\n",
    "plt.legend(fontsize=14)"
   ]
  },
  {
   "cell_type": "code",
   "execution_count": 909,
   "metadata": {},
   "outputs": [
    {
     "data": {
      "image/png": "[encoded data removed]",
      "text/plain": [
       "<Figure size 576x432 with 1 Axes>"
      ]
     },
     "metadata": {},
     "output_type": "display_data"
    }
   ],
   "source": [
    "sns.set_style('whitegrid')\n",
    "fig=plt.figure(figsize=(8,6))\n",
    "\n",
    "axes=fig.add_axes([0,0,1,1])\n",
    "\n",
    "axes.plot(param_alpha,r2_lasso, linestyle='-.',lw=1.5,label='Lasso')\n",
    "axes.plot(param_alpha,r2_ridge,ls='--',lw=1.5,label='Ridge')\n",
    "\n",
    "axes.set_xlabel(\"Alpha\",fontsize=14)\n",
    "axes.set_ylabel(\"Mean R2 Score from CV\",fontsize=14)\n",
    "\n",
    "plt.legend(fontsize=12)\n",
    "plt.show()"
   ]
  },
  {
   "cell_type": "markdown",
   "metadata": {},
   "source": [
    "<font size=5 color='red'>Exercise ctd</font>\n",
    "\n",
    "Pick the best $\\alpha$, the best model and compute the test R2 using the validation set `X_v`."
   ]
  },
  {
   "cell_type": "code",
   "execution_count": 61,
   "metadata": {},
   "outputs": [
    {
     "data": {
      "text/html": [
       "<div>\n",
       "<style scoped>\n",
       "    .dataframe tbody tr th:only-of-type {\n",
       "        vertical-align: middle;\n",
       "    }\n",
       "\n",
       "    .dataframe tbody tr th {\n",
       "        vertical-align: top;\n",
       "    }\n",
       "\n",
       "    .dataframe thead th {\n",
       "        text-align: right;\n",
       "    }\n",
       "</style>\n",
       "<table border=\"1\" class=\"dataframe\">\n",
       "  <thead>\n",
       "    <tr style=\"text-align: right;\">\n",
       "      <th></th>\n",
       "      <th>CRIM</th>\n",
       "      <th>ZN</th>\n",
       "      <th>INDUS</th>\n",
       "      <th>CHAS</th>\n",
       "      <th>NOX</th>\n",
       "      <th>RM</th>\n",
       "      <th>AGE</th>\n",
       "      <th>DIS</th>\n",
       "      <th>RAD</th>\n",
       "      <th>TAX</th>\n",
       "      <th>PTRATIO</th>\n",
       "      <th>B</th>\n",
       "      <th>LSTAT</th>\n",
       "      <th>target</th>\n",
       "    </tr>\n",
       "  </thead>\n",
       "  <tbody>\n",
       "    <tr>\n",
       "      <td>325</td>\n",
       "      <td>0.19186</td>\n",
       "      <td>0.0</td>\n",
       "      <td>7.38</td>\n",
       "      <td>0.0</td>\n",
       "      <td>0.493</td>\n",
       "      <td>6.431</td>\n",
       "      <td>14.7</td>\n",
       "      <td>5.4159</td>\n",
       "      <td>5.0</td>\n",
       "      <td>287.0</td>\n",
       "      <td>19.6</td>\n",
       "      <td>393.68</td>\n",
       "      <td>5.08</td>\n",
       "      <td>24.6</td>\n",
       "    </tr>\n",
       "    <tr>\n",
       "      <td>351</td>\n",
       "      <td>0.07950</td>\n",
       "      <td>60.0</td>\n",
       "      <td>1.69</td>\n",
       "      <td>0.0</td>\n",
       "      <td>0.411</td>\n",
       "      <td>6.579</td>\n",
       "      <td>35.9</td>\n",
       "      <td>10.7103</td>\n",
       "      <td>4.0</td>\n",
       "      <td>411.0</td>\n",
       "      <td>18.3</td>\n",
       "      <td>370.78</td>\n",
       "      <td>5.49</td>\n",
       "      <td>24.1</td>\n",
       "    </tr>\n",
       "    <tr>\n",
       "      <td>436</td>\n",
       "      <td>14.42080</td>\n",
       "      <td>0.0</td>\n",
       "      <td>18.10</td>\n",
       "      <td>0.0</td>\n",
       "      <td>0.740</td>\n",
       "      <td>6.461</td>\n",
       "      <td>93.3</td>\n",
       "      <td>2.0026</td>\n",
       "      <td>24.0</td>\n",
       "      <td>666.0</td>\n",
       "      <td>20.2</td>\n",
       "      <td>27.49</td>\n",
       "      <td>18.05</td>\n",
       "      <td>9.6</td>\n",
       "    </tr>\n",
       "    <tr>\n",
       "      <td>70</td>\n",
       "      <td>0.08826</td>\n",
       "      <td>0.0</td>\n",
       "      <td>10.81</td>\n",
       "      <td>0.0</td>\n",
       "      <td>0.413</td>\n",
       "      <td>6.417</td>\n",
       "      <td>6.6</td>\n",
       "      <td>5.2873</td>\n",
       "      <td>4.0</td>\n",
       "      <td>305.0</td>\n",
       "      <td>19.2</td>\n",
       "      <td>383.73</td>\n",
       "      <td>6.72</td>\n",
       "      <td>24.2</td>\n",
       "    </tr>\n",
       "    <tr>\n",
       "      <td>128</td>\n",
       "      <td>0.32543</td>\n",
       "      <td>0.0</td>\n",
       "      <td>21.89</td>\n",
       "      <td>0.0</td>\n",
       "      <td>0.624</td>\n",
       "      <td>6.431</td>\n",
       "      <td>98.8</td>\n",
       "      <td>1.8125</td>\n",
       "      <td>4.0</td>\n",
       "      <td>437.0</td>\n",
       "      <td>21.2</td>\n",
       "      <td>396.90</td>\n",
       "      <td>15.39</td>\n",
       "      <td>18.0</td>\n",
       "    </tr>\n",
       "  </tbody>\n",
       "</table>\n",
       "</div>"
      ],
      "text/plain": [
       "         CRIM    ZN  INDUS  CHAS    NOX     RM   AGE      DIS   RAD    TAX  \\\n",
       "325   0.19186   0.0   7.38   0.0  0.493  6.431  14.7   5.4159   5.0  287.0   \n",
       "351   0.07950  60.0   1.69   0.0  0.411  6.579  35.9  10.7103   4.0  411.0   \n",
       "436  14.42080   0.0  18.10   0.0  0.740  6.461  93.3   2.0026  24.0  666.0   \n",
       "70    0.08826   0.0  10.81   0.0  0.413  6.417   6.6   5.2873   4.0  305.0   \n",
       "128   0.32543   0.0  21.89   0.0  0.624  6.431  98.8   1.8125   4.0  437.0   \n",
       "\n",
       "     PTRATIO       B  LSTAT  target  \n",
       "325     19.6  393.68   5.08    24.6  \n",
       "351     18.3  370.78   5.49    24.1  \n",
       "436     20.2   27.49  18.05     9.6  \n",
       "70      19.2  383.73   6.72    24.2  \n",
       "128     21.2  396.90  15.39    18.0  "
      ]
     },
     "execution_count": 61,
     "metadata": {},
     "output_type": "execute_result"
    }
   ],
   "source": [
    "#Start Your Answer Here\n",
    "X_v.head()"
   ]
  },
  {
   "cell_type": "code",
   "execution_count": 66,
   "metadata": {},
   "outputs": [],
   "source": [
    "X_t=X_v.drop('target',axis=1)\n",
    "y_t=X_v['target']"
   ]
  },
  {
   "cell_type": "code",
   "execution_count": 76,
   "metadata": {},
   "outputs": [],
   "source": [
    "model=Ridge(alpha=6)"
   ]
  },
  {
   "cell_type": "code",
   "execution_count": 77,
   "metadata": {},
   "outputs": [
    {
     "data": {
      "text/plain": [
       "Ridge(alpha=6, copy_X=True, fit_intercept=True, max_iter=None, normalize=False,\n",
       "      random_state=None, solver='auto', tol=0.001)"
      ]
     },
     "execution_count": 77,
     "metadata": {},
     "output_type": "execute_result"
    }
   ],
   "source": [
    "model.fit(X_sc,y)"
   ]
  },
  {
   "cell_type": "code",
   "execution_count": 78,
   "metadata": {},
   "outputs": [],
   "source": [
    "X_test=(X_t-mean)/std"
   ]
  },
  {
   "cell_type": "code",
   "execution_count": 79,
   "metadata": {},
   "outputs": [],
   "source": [
    "pred=model.predict(X_test)"
   ]
  },
  {
   "cell_type": "code",
   "execution_count": 80,
   "metadata": {},
   "outputs": [],
   "source": [
    "from sklearn.metrics import r2_score"
   ]
  },
  {
   "cell_type": "code",
   "execution_count": 81,
   "metadata": {},
   "outputs": [
    {
     "data": {
      "text/plain": [
       "0.7205836233886624"
      ]
     },
     "execution_count": 81,
     "metadata": {},
     "output_type": "execute_result"
    }
   ],
   "source": [
    "#Best R2 Score\n",
    "r2_score(y_t,pred)"
   ]
  },
  {
   "cell_type": "code",
   "execution_count": null,
   "metadata": {},
   "outputs": [],
   "source": []
  }
 ],
 "metadata": {
  "kernelspec": {
   "display_name": "Python 3",
   "language": "python",
   "name": "python3"
  },
  "language_info": {
   "codemirror_mode": {
    "name": "ipython",
    "version": 3
   },
   "file_extension": ".py",
   "mimetype": "text/x-python",
   "name": "python",
   "nbconvert_exporter": "python",
   "pygments_lexer": "ipython3",
   "version": "3.7.4"
  }
 },
 "nbformat": 4,
 "nbformat_minor": 2
}

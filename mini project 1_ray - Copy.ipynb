{
 "cells": [
  {
   "cell_type": "markdown",
   "metadata": {},
   "source": [
    "<h2> ======================================================</h2>\n",
    " <h1>MA477 - Theory and Applications of Data Science</h1> \n",
    "  <h1>Project 1: Linear Regression & KNN Regressor</h1> \n",
    " \n",
    " <h4>Dr. Valmir Bucaj</h4>\n",
    " <br>\n",
    " United States Military Academy, West Point, AY20-2\n",
    "<h2>=======================================================</h2>\n",
    "\n",
    "<h2> Weight: <font color='red'>50pts</font</h2>\n",
    "    \n",
    " <h2>Due Date: <font color='red'>Feb. 14th by COB</font</h2>"
   ]
  },
  {
   "cell_type": "markdown",
   "metadata": {},
   "source": [
    "<hr style=\"height:3.2px;border:none;color:#333;background-color:#333;\" />\n",
    "\n",
    "<h3> Cadet Name: Hunter Ray</h3> \n",
    "<br>\n",
    "<h3>Date: 14 February 2020 </h3> \n",
    "\n",
    "<br>\n",
    "\n",
    "<font color='black' size='3'> <b> MY DOCUMENTATION IDENTIFIES ALL SOURCES USED AND ASSISTANCE RECEIVED IN THIS ASSIGNMENT\n",
    "<br>\n",
    "\n",
    "<h3> Signature/Initials: HR</h3> \n",
    "\n",
    "<hr style=\"height:3px;border:none;color:#333;background-color:#333;\" />"
   ]
  },
  {
   "cell_type": "markdown",
   "metadata": {},
   "source": [
    "<h2>Description of Project</h2>\n",
    "\n",
    "In this project you will be working with the `incurance` dataset contained in the folder. The `insurance` dataset contains information of different people, and based on this information how much the insurance compay charges them. The ultimate goal is to predict the insurance charges for new people based on the historical information collected about each person. The features that have been collected are: `age, sex, bmi, children, smoker,` and `region`. \n",
    "\n",
    "You are provided with two separate sets: `insurance_train` which you will use to train your model and `insurance_test` which you will use to generate the predictions. Once you generate the predictions, you should save the results on an excel file and submit that to me. \n",
    "\n",
    "The project will be broken into two main parts: The <b>Analysis</b> and <b> Best Model</b> portions.\n",
    "\n",
    "<h3>Analysis</h3>\n",
    "\n",
    "The <b>Analysis</b> portion is worth <b>30pts</b>.\n",
    "\n",
    "For this portion of the project you will be evaluated on the overall analysis of the dataset.\n",
    "\n",
    "The rough point breakdown is as follows:\n",
    "\n",
    "<ul>\n",
    "<li>A one or two pargraph explaining what the project is about, what are the results, and the methodology: <b>10pts</b></li>\n",
    "\n",
    "<li>Thoroughly addressing all the questions and completing all the required tasks: <b>10pts </b></li>\n",
    "\n",
    "<li> Creativity and quality of Python code and explanation of the step-by-step code/work:<b> 10pts</b></li>\n",
    "</ul>\n",
    "\n",
    "<h4>Tasks</h4>\n",
    "\n",
    "<ul>\n",
    "    <li> Data Preprocessing: Explain how you are handling the missing data, are you scaling the data and why?</li>\n",
    "    \n",
    "   <li> Conduct exploratory analysis, and briefly summarize your observations and findings. Exploring your data using a variety of visual tools counts as part of exploratory analysis.</li>\n",
    "        \n",
    "   <li> Explain how you handled each of the qualitative features. </li>\n",
    "   \n",
    "   <li> What model did you pick and why? At this stage only choose between KNN Regressor and Linear Regression</li>\n",
    "   \n",
    "   <li>Explain the type of relationship(linear vs. non-linear) between features and response variable, and how you came to your conclusions. </li>\n",
    "   \n",
    "   <li> Obtain a measure of your model's variability and prediction power. Explain your method and results.</li>\n",
    "   \n",
    "    \n",
    " </ul>\n",
    "\n",
    "<h3>Best Model</h3>\n",
    "\n",
    "The <b>Best Model</b> portion is worth <b>20pts</b>.\n",
    "\n",
    "For this portion you will exclusively be evaluated on the predictive power of your model. In this portion you will be competing with the rest of your peers for the top score. The scores will be, roughly, distributed according to the following scheme:\n",
    "\n",
    "\n",
    "\n",
    "There are two instances where there may be significant deviations from the above grading scheme:\n",
    "\n",
    "\n",
    "\n",
    "\n",
    "\n",
    "<table>\n",
    "  <tr>\n",
    "    <th>Points</th>\n",
    "    <th>Criteria</th>\n",
    "\n",
    "  </tr>\n",
    "  <tr>\n",
    "    <td>18-20</td>\n",
    "    <td>Highest R2 Score</td>\n",
    "   \n",
    "  </tr>\n",
    "  <tr>\n",
    "    <td>17-19</td>\n",
    "    <td>.25 StDevs of highest R2 score</td>\n",
    "   \n",
    "  </tr>\n",
    "  <tr>\n",
    "    <td>15-16</td>\n",
    "    <td>.5 StDevs of highest R2 score</td>\n",
    "  \n",
    "  </tr>\n",
    "  <tr>\n",
    "    <td>13-14</td>\n",
    "    <td>.75 StDevs of highest R2 score</td>\n",
    "  \n",
    "  </tr>\n",
    "  <tr>\n",
    "    <td>11-12</td>\n",
    "    <td>1.25 StDevs of highest R2 score</td>\n",
    "\n",
    "  </tr>\n",
    "  <tr>\n",
    "    <td>10</td>\n",
    "    <td>1.75 StDevs of highest R2 score</td>\n",
    "   \n",
    "  </tr>\n",
    "  <tr>\n",
    "    <td>9</td>\n",
    "    <td>2 StDevs of highest R2 score</td>\n",
    "   \n",
    "  </tr>\n",
    "   <tr>\n",
    "    <td>7-8</td>\n",
    "    <td> 2+ StDevs of highest R2 score</td>\n",
    "   \n",
    "  </tr>\n",
    "</table>\n",
    "\n",
    "\n",
    "\n",
    "<ul>\n",
    "  <li> If a student's model achieves an R2 score that is at least as high as the R2 score achieved by the model build by the instructor, then you will automatically get a $20$</li>\n",
    "  <li> If the highest R2 score by a student is signigicantly smaller than the R2 score achieved by the model built by the instructor, the insturctor reserves the right to assign a max score that is significantly lower than what is stated in the grading scheme above. In this situation the rest of the scores will also be adjusted accordingly.</li>\n",
    " </ul>\n",
    " \n",
    " <h3>How to Submit?</h3>\n",
    " \n",
    " All of your work should be done in a single JupyterNotebook. You will submit to me via email a total of two files. One will be the JupyterNotebook which contains your whole work. The second file should be an excel file containing ONLY the predictions of your model on the test set `insurance_test`."
   ]
  },
  {
   "cell_type": "code",
   "execution_count": 149,
   "metadata": {},
   "outputs": [
    {
     "data": {
      "text/html": [
       "<div>\n",
       "<style scoped>\n",
       "    .dataframe tbody tr th:only-of-type {\n",
       "        vertical-align: middle;\n",
       "    }\n",
       "\n",
       "    .dataframe tbody tr th {\n",
       "        vertical-align: top;\n",
       "    }\n",
       "\n",
       "    .dataframe thead th {\n",
       "        text-align: right;\n",
       "    }\n",
       "</style>\n",
       "<table border=\"1\" class=\"dataframe\">\n",
       "  <thead>\n",
       "    <tr style=\"text-align: right;\">\n",
       "      <th></th>\n",
       "      <th>age</th>\n",
       "      <th>sex</th>\n",
       "      <th>bmi</th>\n",
       "      <th>children</th>\n",
       "      <th>smoker</th>\n",
       "      <th>region</th>\n",
       "      <th>charges</th>\n",
       "    </tr>\n",
       "  </thead>\n",
       "  <tbody>\n",
       "    <tr>\n",
       "      <th>0</th>\n",
       "      <td>52.0</td>\n",
       "      <td>female</td>\n",
       "      <td>24.130</td>\n",
       "      <td>1</td>\n",
       "      <td>yes</td>\n",
       "      <td>northwest</td>\n",
       "      <td>23887.66270</td>\n",
       "    </tr>\n",
       "    <tr>\n",
       "      <th>1</th>\n",
       "      <td>46.0</td>\n",
       "      <td>male</td>\n",
       "      <td>43.890</td>\n",
       "      <td>3</td>\n",
       "      <td>no</td>\n",
       "      <td>southeast</td>\n",
       "      <td>8944.11510</td>\n",
       "    </tr>\n",
       "    <tr>\n",
       "      <th>2</th>\n",
       "      <td>46.0</td>\n",
       "      <td>male</td>\n",
       "      <td>19.855</td>\n",
       "      <td>0</td>\n",
       "      <td>no</td>\n",
       "      <td>northwest</td>\n",
       "      <td>7526.70645</td>\n",
       "    </tr>\n",
       "    <tr>\n",
       "      <th>3</th>\n",
       "      <td>37.0</td>\n",
       "      <td>female</td>\n",
       "      <td>NaN</td>\n",
       "      <td>2</td>\n",
       "      <td>no</td>\n",
       "      <td>southwest</td>\n",
       "      <td>6311.95200</td>\n",
       "    </tr>\n",
       "    <tr>\n",
       "      <th>4</th>\n",
       "      <td>62.0</td>\n",
       "      <td>female</td>\n",
       "      <td>29.920</td>\n",
       "      <td>0</td>\n",
       "      <td>no</td>\n",
       "      <td>southeast</td>\n",
       "      <td>13457.96080</td>\n",
       "    </tr>\n",
       "  </tbody>\n",
       "</table>\n",
       "</div>"
      ],
      "text/plain": [
       "    age     sex     bmi  children smoker     region      charges\n",
       "0  52.0  female  24.130         1    yes  northwest  23887.66270\n",
       "1  46.0    male  43.890         3     no  southeast   8944.11510\n",
       "2  46.0    male  19.855         0     no  northwest   7526.70645\n",
       "3  37.0  female     NaN         2     no  southwest   6311.95200\n",
       "4  62.0  female  29.920         0     no  southeast  13457.96080"
      ]
     },
     "execution_count": 149,
     "metadata": {},
     "output_type": "execute_result"
    }
   ],
   "source": [
    "df.head()"
   ]
  },
  {
   "cell_type": "code",
   "execution_count": 76,
   "metadata": {},
   "outputs": [],
   "source": [
    "#the purpose of this project is to take a data set containing explanatory variables that relate to the target variable \n",
    "#and generate the best prediction model. This prediction model will then be used to generate predictions\n",
    "#on a new data set and judged for accuracy. In the context of this problem we are trying to create a a model that predicts \n",
    "#how much an insurance company should charge customers based on their age, sex, bmi, children, smoker, and region. This \n",
    "#is relevant work done by actuaries in the real world that, if applied well, could save the insurance company money by \n",
    "#allocating the right charges to the right individuals and avoid overcharging which could lead to client loss or \n",
    "#undercharging which leaves momney on the table for the insurance company."
   ]
  },
  {
   "cell_type": "code",
   "execution_count": 2,
   "metadata": {},
   "outputs": [],
   "source": [
    "import pandas as pd\n",
    "import numpy as np\n",
    "import matplotlib.pyplot as plt\n",
    "import seaborn as sns\n",
    "from sklearn.preprocessing import StandardScaler\n",
    "from sklearn.model_selection import cross_validate, cross_val_score, ShuffleSplit,  KFold\n",
    "from sklearn.linear_model import LinearRegression\n",
    "from sklearn.neighbors import KNeighborsRegressor\n",
    "from sklearn.linear_model import Ridge, Lasso, LinearRegression\n",
    "from sklearn.metrics import r2_score"
   ]
  },
  {
   "cell_type": "code",
   "execution_count": 3,
   "metadata": {},
   "outputs": [],
   "source": [
    "#importing the datasets\n",
    "df_train=pd.read_csv('insurance_train.csv')\n",
    "df_test=pd.read_csv('insurance_test.csv')"
   ]
  },
  {
   "cell_type": "code",
   "execution_count": 4,
   "metadata": {},
   "outputs": [
    {
     "data": {
      "text/html": [
       "<div>\n",
       "<style scoped>\n",
       "    .dataframe tbody tr th:only-of-type {\n",
       "        vertical-align: middle;\n",
       "    }\n",
       "\n",
       "    .dataframe tbody tr th {\n",
       "        vertical-align: top;\n",
       "    }\n",
       "\n",
       "    .dataframe thead th {\n",
       "        text-align: right;\n",
       "    }\n",
       "</style>\n",
       "<table border=\"1\" class=\"dataframe\">\n",
       "  <thead>\n",
       "    <tr style=\"text-align: right;\">\n",
       "      <th></th>\n",
       "      <th>age</th>\n",
       "      <th>sex</th>\n",
       "      <th>bmi</th>\n",
       "      <th>children</th>\n",
       "      <th>smoker</th>\n",
       "      <th>region</th>\n",
       "      <th>charges</th>\n",
       "    </tr>\n",
       "  </thead>\n",
       "  <tbody>\n",
       "    <tr>\n",
       "      <td>0</td>\n",
       "      <td>52.0</td>\n",
       "      <td>female</td>\n",
       "      <td>24.130</td>\n",
       "      <td>1</td>\n",
       "      <td>yes</td>\n",
       "      <td>northwest</td>\n",
       "      <td>23887.66270</td>\n",
       "    </tr>\n",
       "    <tr>\n",
       "      <td>1</td>\n",
       "      <td>46.0</td>\n",
       "      <td>male</td>\n",
       "      <td>43.890</td>\n",
       "      <td>3</td>\n",
       "      <td>no</td>\n",
       "      <td>southeast</td>\n",
       "      <td>8944.11510</td>\n",
       "    </tr>\n",
       "    <tr>\n",
       "      <td>2</td>\n",
       "      <td>46.0</td>\n",
       "      <td>male</td>\n",
       "      <td>19.855</td>\n",
       "      <td>0</td>\n",
       "      <td>no</td>\n",
       "      <td>northwest</td>\n",
       "      <td>7526.70645</td>\n",
       "    </tr>\n",
       "    <tr>\n",
       "      <td>3</td>\n",
       "      <td>37.0</td>\n",
       "      <td>female</td>\n",
       "      <td>NaN</td>\n",
       "      <td>2</td>\n",
       "      <td>no</td>\n",
       "      <td>southwest</td>\n",
       "      <td>6311.95200</td>\n",
       "    </tr>\n",
       "    <tr>\n",
       "      <td>4</td>\n",
       "      <td>62.0</td>\n",
       "      <td>female</td>\n",
       "      <td>29.920</td>\n",
       "      <td>0</td>\n",
       "      <td>no</td>\n",
       "      <td>southeast</td>\n",
       "      <td>13457.96080</td>\n",
       "    </tr>\n",
       "  </tbody>\n",
       "</table>\n",
       "</div>"
      ],
      "text/plain": [
       "    age     sex     bmi  children smoker     region      charges\n",
       "0  52.0  female  24.130         1    yes  northwest  23887.66270\n",
       "1  46.0    male  43.890         3     no  southeast   8944.11510\n",
       "2  46.0    male  19.855         0     no  northwest   7526.70645\n",
       "3  37.0  female     NaN         2     no  southwest   6311.95200\n",
       "4  62.0  female  29.920         0     no  southeast  13457.96080"
      ]
     },
     "execution_count": 4,
     "metadata": {},
     "output_type": "execute_result"
    }
   ],
   "source": [
    "#check the head of the data\n",
    "df_train.head()"
   ]
  },
  {
   "cell_type": "code",
   "execution_count": 5,
   "metadata": {},
   "outputs": [
    {
     "data": {
      "text/html": [
       "<div>\n",
       "<style scoped>\n",
       "    .dataframe tbody tr th:only-of-type {\n",
       "        vertical-align: middle;\n",
       "    }\n",
       "\n",
       "    .dataframe tbody tr th {\n",
       "        vertical-align: top;\n",
       "    }\n",
       "\n",
       "    .dataframe thead th {\n",
       "        text-align: right;\n",
       "    }\n",
       "</style>\n",
       "<table border=\"1\" class=\"dataframe\">\n",
       "  <thead>\n",
       "    <tr style=\"text-align: right;\">\n",
       "      <th></th>\n",
       "      <th>age</th>\n",
       "      <th>sex</th>\n",
       "      <th>bmi</th>\n",
       "      <th>children</th>\n",
       "      <th>smoker</th>\n",
       "      <th>region</th>\n",
       "    </tr>\n",
       "  </thead>\n",
       "  <tbody>\n",
       "    <tr>\n",
       "      <td>0</td>\n",
       "      <td>59</td>\n",
       "      <td>male</td>\n",
       "      <td>26.400</td>\n",
       "      <td>0</td>\n",
       "      <td>no</td>\n",
       "      <td>southeast</td>\n",
       "    </tr>\n",
       "    <tr>\n",
       "      <td>1</td>\n",
       "      <td>59</td>\n",
       "      <td>female</td>\n",
       "      <td>31.350</td>\n",
       "      <td>0</td>\n",
       "      <td>no</td>\n",
       "      <td>northwest</td>\n",
       "    </tr>\n",
       "    <tr>\n",
       "      <td>2</td>\n",
       "      <td>52</td>\n",
       "      <td>female</td>\n",
       "      <td>37.400</td>\n",
       "      <td>0</td>\n",
       "      <td>no</td>\n",
       "      <td>southwest</td>\n",
       "    </tr>\n",
       "    <tr>\n",
       "      <td>3</td>\n",
       "      <td>46</td>\n",
       "      <td>male</td>\n",
       "      <td>33.345</td>\n",
       "      <td>1</td>\n",
       "      <td>no</td>\n",
       "      <td>northeast</td>\n",
       "    </tr>\n",
       "    <tr>\n",
       "      <td>4</td>\n",
       "      <td>19</td>\n",
       "      <td>female</td>\n",
       "      <td>28.900</td>\n",
       "      <td>0</td>\n",
       "      <td>no</td>\n",
       "      <td>southwest</td>\n",
       "    </tr>\n",
       "  </tbody>\n",
       "</table>\n",
       "</div>"
      ],
      "text/plain": [
       "   age     sex     bmi  children smoker     region\n",
       "0   59    male  26.400         0     no  southeast\n",
       "1   59  female  31.350         0     no  northwest\n",
       "2   52  female  37.400         0     no  southwest\n",
       "3   46    male  33.345         1     no  northeast\n",
       "4   19  female  28.900         0     no  southwest"
      ]
     },
     "execution_count": 5,
     "metadata": {},
     "output_type": "execute_result"
    }
   ],
   "source": [
    "df_test.head()"
   ]
  },
  {
   "cell_type": "code",
   "execution_count": 6,
   "metadata": {},
   "outputs": [],
   "source": [
    "#I handled the qualitative features 'smoker' and 'sex' by converting these variables with 2 unique values into \n",
    "#boolean responses.\n",
    "#smoker yes=1 ; smoker no=0\n",
    "#male=1 ; female=0\n",
    "df_train['smoker']=df_train['smoker'].apply(lambda x: 1 if x=='yes' else 0)\n",
    "df_train['sex']=df_train['sex'].apply(lambda x: 1 if x=='male' else 0)\n",
    "df_test['smoker']=df_test['smoker'].apply(lambda x: 1 if x=='yes' else 0)\n",
    "df_test['sex']=df_test['sex'].apply(lambda x: 1 if x=='male' else 0)"
   ]
  },
  {
   "cell_type": "code",
   "execution_count": 7,
   "metadata": {},
   "outputs": [],
   "source": [
    "#I handled the qualitative feature 'region' by turning the region column into 4 seperate columns for each region \n",
    "#with boolean responses.\n",
    "df_train=pd.get_dummies(df_train,columns=['region'],drop_first=False)\n",
    "df_test=pd.get_dummies(df_test,columns=['region'],drop_first=False)"
   ]
  },
  {
   "cell_type": "code",
   "execution_count": 8,
   "metadata": {},
   "outputs": [
    {
     "data": {
      "text/plain": [
       "<matplotlib.axes._subplots.AxesSubplot at 0x1f179532048>"
      ]
     },
     "execution_count": 8,
     "metadata": {},
     "output_type": "execute_result"
    },
    {
     "data": {
      "image/png": "[encoded data removed]",
      "text/plain": [
       "<Figure size 720x432 with 1 Axes>"
      ]
     },
     "metadata": {
      "needs_background": "light"
     },
     "output_type": "display_data"
    }
   ],
   "source": [
    "#check for null values\n",
    "plt.figure(figsize=(10,6))\n",
    "sns.heatmap(df_train.isnull()==True,cbar=False)"
   ]
  },
  {
   "cell_type": "code",
   "execution_count": 10,
   "metadata": {},
   "outputs": [
    {
     "data": {
      "text/plain": [
       "<matplotlib.axes._subplots.AxesSubplot at 0x1f179865308>"
      ]
     },
     "execution_count": 10,
     "metadata": {},
     "output_type": "execute_result"
    },
    {
     "data": {
      "image/png": "[encoded data removed]",
      "text/plain": [
       "<Figure size 720x432 with 1 Axes>"
      ]
     },
     "metadata": {
      "needs_background": "light"
     },
     "output_type": "display_data"
    }
   ],
   "source": [
    "#check for null values \n",
    "plt.figure(figsize=(10,6))\n",
    "sns.heatmap(df_test.isnull()==True,cbar=False)"
   ]
  },
  {
   "cell_type": "code",
   "execution_count": 74,
   "metadata": {},
   "outputs": [],
   "source": [
    "#In the following section of code you can see that I am inputing the missing values with the mean of all of the other \n",
    "#values in that column."
   ]
  },
  {
   "cell_type": "code",
   "execution_count": 10,
   "metadata": {},
   "outputs": [],
   "source": [
    "#replacing the rows with missing data with the mean of those columns\n",
    "df_train['age'].fillna(value=df_train['age'].mean(),inplace=True)\n",
    "df_train['bmi'].fillna(value=df_train['bmi'].mean(),inplace=True)\n",
    "df_test['age'].fillna(value=df_test['age'].mean(),inplace=True)\n",
    "df_test['bmi'].fillna(value=df_test['bmi'].mean(),inplace=True)"
   ]
  },
  {
   "cell_type": "code",
   "execution_count": 11,
   "metadata": {},
   "outputs": [
    {
     "data": {
      "text/html": [
       "<div>\n",
       "<style scoped>\n",
       "    .dataframe tbody tr th:only-of-type {\n",
       "        vertical-align: middle;\n",
       "    }\n",
       "\n",
       "    .dataframe tbody tr th {\n",
       "        vertical-align: top;\n",
       "    }\n",
       "\n",
       "    .dataframe thead th {\n",
       "        text-align: right;\n",
       "    }\n",
       "</style>\n",
       "<table border=\"1\" class=\"dataframe\">\n",
       "  <thead>\n",
       "    <tr style=\"text-align: right;\">\n",
       "      <th></th>\n",
       "      <th>age</th>\n",
       "      <th>sex</th>\n",
       "      <th>bmi</th>\n",
       "      <th>children</th>\n",
       "      <th>smoker</th>\n",
       "      <th>charges</th>\n",
       "      <th>region_northeast</th>\n",
       "      <th>region_northwest</th>\n",
       "      <th>region_southeast</th>\n",
       "      <th>region_southwest</th>\n",
       "    </tr>\n",
       "  </thead>\n",
       "  <tbody>\n",
       "    <tr>\n",
       "      <td>0</td>\n",
       "      <td>52.0</td>\n",
       "      <td>0</td>\n",
       "      <td>24.130000</td>\n",
       "      <td>1</td>\n",
       "      <td>1</td>\n",
       "      <td>23887.66270</td>\n",
       "      <td>0</td>\n",
       "      <td>1</td>\n",
       "      <td>0</td>\n",
       "      <td>0</td>\n",
       "    </tr>\n",
       "    <tr>\n",
       "      <td>1</td>\n",
       "      <td>46.0</td>\n",
       "      <td>1</td>\n",
       "      <td>43.890000</td>\n",
       "      <td>3</td>\n",
       "      <td>0</td>\n",
       "      <td>8944.11510</td>\n",
       "      <td>0</td>\n",
       "      <td>0</td>\n",
       "      <td>1</td>\n",
       "      <td>0</td>\n",
       "    </tr>\n",
       "    <tr>\n",
       "      <td>2</td>\n",
       "      <td>46.0</td>\n",
       "      <td>1</td>\n",
       "      <td>19.855000</td>\n",
       "      <td>0</td>\n",
       "      <td>0</td>\n",
       "      <td>7526.70645</td>\n",
       "      <td>0</td>\n",
       "      <td>1</td>\n",
       "      <td>0</td>\n",
       "      <td>0</td>\n",
       "    </tr>\n",
       "    <tr>\n",
       "      <td>3</td>\n",
       "      <td>37.0</td>\n",
       "      <td>0</td>\n",
       "      <td>30.630425</td>\n",
       "      <td>2</td>\n",
       "      <td>0</td>\n",
       "      <td>6311.95200</td>\n",
       "      <td>0</td>\n",
       "      <td>0</td>\n",
       "      <td>0</td>\n",
       "      <td>1</td>\n",
       "    </tr>\n",
       "    <tr>\n",
       "      <td>4</td>\n",
       "      <td>62.0</td>\n",
       "      <td>0</td>\n",
       "      <td>29.920000</td>\n",
       "      <td>0</td>\n",
       "      <td>0</td>\n",
       "      <td>13457.96080</td>\n",
       "      <td>0</td>\n",
       "      <td>0</td>\n",
       "      <td>1</td>\n",
       "      <td>0</td>\n",
       "    </tr>\n",
       "  </tbody>\n",
       "</table>\n",
       "</div>"
      ],
      "text/plain": [
       "    age  sex        bmi  children  smoker      charges  region_northeast  \\\n",
       "0  52.0    0  24.130000         1       1  23887.66270                 0   \n",
       "1  46.0    1  43.890000         3       0   8944.11510                 0   \n",
       "2  46.0    1  19.855000         0       0   7526.70645                 0   \n",
       "3  37.0    0  30.630425         2       0   6311.95200                 0   \n",
       "4  62.0    0  29.920000         0       0  13457.96080                 0   \n",
       "\n",
       "   region_northwest  region_southeast  region_southwest  \n",
       "0                 1                 0                 0  \n",
       "1                 0                 1                 0  \n",
       "2                 1                 0                 0  \n",
       "3                 0                 0                 1  \n",
       "4                 0                 1                 0  "
      ]
     },
     "execution_count": 11,
     "metadata": {},
     "output_type": "execute_result"
    }
   ],
   "source": [
    "df_train.head()"
   ]
  },
  {
   "cell_type": "code",
   "execution_count": null,
   "metadata": {},
   "outputs": [],
   "source": [
    "#The following chunk of code is used to create plots comparing each explanatory variable to the target variable."
   ]
  },
  {
   "cell_type": "code",
   "execution_count": 13,
   "metadata": {},
   "outputs": [
    {
     "data": {
      "image/png": "[encoded data removed]",
      "text/plain": [
       "<Figure size 576x432 with 1 Axes>"
      ]
     },
     "metadata": {},
     "output_type": "display_data"
    },
    {
     "data": {
      "image/png": "[encoded data removed]",
      "text/plain": [
       "<Figure size 576x432 with 1 Axes>"
      ]
     },
     "metadata": {},
     "output_type": "display_data"
    },
    {
     "data": {
      "image/png": "[encoded data removed]",
      "text/plain": [
       "<Figure size 576x432 with 1 Axes>"
      ]
     },
     "metadata": {},
     "output_type": "display_data"
    },
    {
     "data": {
      "image/png": "[encoded data removed]",
      "text/plain": [
       "<Figure size 576x432 with 1 Axes>"
      ]
     },
     "metadata": {},
     "output_type": "display_data"
    },
    {
     "data": {
      "image/png": "[encoded data removed]",
      "text/plain": [
       "<Figure size 576x432 with 1 Axes>"
      ]
     },
     "metadata": {},
     "output_type": "display_data"
    }
   ],
   "source": [
    "sns.set_style('whitegrid')\n",
    "plt.figure(figsize=(8,6))\n",
    "sns.regplot(x='age',y='charges',data=df_train,scatter_kws={'s':6},line_kws={'color':'r'},ci=95)\n",
    "plt.xlabel('age',fontsize=14)\n",
    "plt.ylabel('charges',fontsize=14)\n",
    "plt.show()\n",
    "\n",
    "sns.set_style('whitegrid')\n",
    "plt.figure(figsize=(8,6))\n",
    "sns.regplot(x='sex',y='charges',data=df_train,scatter_kws={'s':6},line_kws={'color':'r'},ci=95)\n",
    "plt.xlabel('sex',fontsize=14)\n",
    "plt.ylabel('charges',fontsize=14)\n",
    "plt.show()\n",
    "\n",
    "sns.set_style('whitegrid')\n",
    "plt.figure(figsize=(8,6))\n",
    "sns.regplot(x='bmi',y='charges',data=df_train,scatter_kws={'s':6},line_kws={'color':'r'},ci=95)\n",
    "plt.xlabel('bmi',fontsize=14)\n",
    "plt.ylabel('charges',fontsize=14)\n",
    "plt.show()\n",
    "\n",
    "sns.set_style('whitegrid')\n",
    "plt.figure(figsize=(8,6))\n",
    "sns.regplot(x='children',y='charges',data=df_train,scatter_kws={'s':6},line_kws={'color':'r'},ci=95)\n",
    "plt.xlabel('children',fontsize=14)\n",
    "plt.ylabel('charges',fontsize=14)\n",
    "plt.show()\n",
    "\n",
    "sns.set_style('whitegrid')\n",
    "plt.figure(figsize=(8,6))\n",
    "sns.regplot(x='smoker',y='charges',data=df_train,scatter_kws={'s':6},line_kws={'color':'r'},ci=95)\n",
    "plt.xlabel('smoker',fontsize=14)\n",
    "plt.ylabel('charges',fontsize=14)\n",
    "plt.show()"
   ]
  },
  {
   "cell_type": "code",
   "execution_count": null,
   "metadata": {},
   "outputs": [],
   "source": [
    "#in these plots it is clear that some explanatory variables are coorelated with the target varaible linearly\n",
    "#(like smoker, age, and bmi) where as other variables do not show a strong linear relationship."
   ]
  },
  {
   "cell_type": "code",
   "execution_count": 15,
   "metadata": {},
   "outputs": [],
   "source": [
    "#split the training data\n",
    "x=df_train.drop('charges',axis=1)\n",
    "y=df_train['charges']"
   ]
  },
  {
   "cell_type": "code",
   "execution_count": null,
   "metadata": {},
   "outputs": [],
   "source": [
    "#in the following steps I am scaling the data because there are several different variables measured with different scales.\n",
    "#scaling the data will allow me to compare them all."
   ]
  },
  {
   "cell_type": "code",
   "execution_count": 16,
   "metadata": {},
   "outputs": [],
   "source": [
    "scaler=StandardScaler()"
   ]
  },
  {
   "cell_type": "code",
   "execution_count": 17,
   "metadata": {},
   "outputs": [],
   "source": [
    "scaled=scaler.fit_transform(x)"
   ]
  },
  {
   "cell_type": "code",
   "execution_count": 27,
   "metadata": {},
   "outputs": [],
   "source": [
    "mean=scaler.mean_\n",
    "std=scaler.scale_"
   ]
  },
  {
   "cell_type": "code",
   "execution_count": 18,
   "metadata": {},
   "outputs": [],
   "source": [
    "x_sc=pd.DataFrame(scaled,columns=x.columns)"
   ]
  },
  {
   "cell_type": "code",
   "execution_count": 19,
   "metadata": {},
   "outputs": [
    {
     "data": {
      "text/html": [
       "<div>\n",
       "<style scoped>\n",
       "    .dataframe tbody tr th:only-of-type {\n",
       "        vertical-align: middle;\n",
       "    }\n",
       "\n",
       "    .dataframe tbody tr th {\n",
       "        vertical-align: top;\n",
       "    }\n",
       "\n",
       "    .dataframe thead th {\n",
       "        text-align: right;\n",
       "    }\n",
       "</style>\n",
       "<table border=\"1\" class=\"dataframe\">\n",
       "  <thead>\n",
       "    <tr style=\"text-align: right;\">\n",
       "      <th></th>\n",
       "      <th>age</th>\n",
       "      <th>sex</th>\n",
       "      <th>bmi</th>\n",
       "      <th>children</th>\n",
       "      <th>smoker</th>\n",
       "      <th>region_northeast</th>\n",
       "      <th>region_northwest</th>\n",
       "      <th>region_southeast</th>\n",
       "      <th>region_southwest</th>\n",
       "    </tr>\n",
       "  </thead>\n",
       "  <tbody>\n",
       "    <tr>\n",
       "      <td>0</td>\n",
       "      <td>0.967770</td>\n",
       "      <td>-0.987122</td>\n",
       "      <td>-1.079867e+00</td>\n",
       "      <td>-0.069439</td>\n",
       "      <td>1.949113</td>\n",
       "      <td>-0.556237</td>\n",
       "      <td>1.828111</td>\n",
       "      <td>-0.616151</td>\n",
       "      <td>-0.590015</td>\n",
       "    </tr>\n",
       "    <tr>\n",
       "      <td>1</td>\n",
       "      <td>0.517557</td>\n",
       "      <td>1.013046</td>\n",
       "      <td>2.202713e+00</td>\n",
       "      <td>1.588841</td>\n",
       "      <td>-0.513054</td>\n",
       "      <td>-0.556237</td>\n",
       "      <td>-0.547013</td>\n",
       "      <td>1.622978</td>\n",
       "      <td>-0.590015</td>\n",
       "    </tr>\n",
       "    <tr>\n",
       "      <td>2</td>\n",
       "      <td>0.517557</td>\n",
       "      <td>1.013046</td>\n",
       "      <td>-1.790040e+00</td>\n",
       "      <td>-0.898580</td>\n",
       "      <td>-0.513054</td>\n",
       "      <td>-0.556237</td>\n",
       "      <td>1.828111</td>\n",
       "      <td>-0.616151</td>\n",
       "      <td>-0.590015</td>\n",
       "    </tr>\n",
       "    <tr>\n",
       "      <td>3</td>\n",
       "      <td>-0.157763</td>\n",
       "      <td>-0.987122</td>\n",
       "      <td>-2.950928e-15</td>\n",
       "      <td>0.759701</td>\n",
       "      <td>-0.513054</td>\n",
       "      <td>-0.556237</td>\n",
       "      <td>-0.547013</td>\n",
       "      <td>-0.616151</td>\n",
       "      <td>1.694871</td>\n",
       "    </tr>\n",
       "    <tr>\n",
       "      <td>4</td>\n",
       "      <td>1.718125</td>\n",
       "      <td>-0.987122</td>\n",
       "      <td>-1.180175e-01</td>\n",
       "      <td>-0.898580</td>\n",
       "      <td>-0.513054</td>\n",
       "      <td>-0.556237</td>\n",
       "      <td>-0.547013</td>\n",
       "      <td>1.622978</td>\n",
       "      <td>-0.590015</td>\n",
       "    </tr>\n",
       "  </tbody>\n",
       "</table>\n",
       "</div>"
      ],
      "text/plain": [
       "        age       sex           bmi  children    smoker  region_northeast  \\\n",
       "0  0.967770 -0.987122 -1.079867e+00 -0.069439  1.949113         -0.556237   \n",
       "1  0.517557  1.013046  2.202713e+00  1.588841 -0.513054         -0.556237   \n",
       "2  0.517557  1.013046 -1.790040e+00 -0.898580 -0.513054         -0.556237   \n",
       "3 -0.157763 -0.987122 -2.950928e-15  0.759701 -0.513054         -0.556237   \n",
       "4  1.718125 -0.987122 -1.180175e-01 -0.898580 -0.513054         -0.556237   \n",
       "\n",
       "   region_northwest  region_southeast  region_southwest  \n",
       "0          1.828111         -0.616151         -0.590015  \n",
       "1         -0.547013          1.622978         -0.590015  \n",
       "2          1.828111         -0.616151         -0.590015  \n",
       "3         -0.547013         -0.616151          1.694871  \n",
       "4         -0.547013          1.622978         -0.590015  "
      ]
     },
     "execution_count": 19,
     "metadata": {},
     "output_type": "execute_result"
    }
   ],
   "source": [
    "x_sc.head()"
   ]
  },
  {
   "cell_type": "code",
   "execution_count": 52,
   "metadata": {},
   "outputs": [],
   "source": [
    "knn=KNeighborsRegressor(n_neighbors=50)\n",
    "lg=LinearRegression()\n",
    "lasso=Lasso(alpha=1.25)\n",
    "ridge=Ridge(alpha=1.25)"
   ]
  },
  {
   "cell_type": "code",
   "execution_count": 53,
   "metadata": {},
   "outputs": [],
   "source": [
    "kf=KFold(n_splits=10,random_state=4,shuffle=True)\n",
    "ss=ShuffleSplit(n_splits=10,test_size=0.2, random_state=2)"
   ]
  },
  {
   "cell_type": "code",
   "execution_count": 54,
   "metadata": {},
   "outputs": [],
   "source": [
    "cv_knn=cross_validate(knn,x_sc,y,cv=ss,scoring={'r2'},return_estimator=True,return_train_score=True)\n",
    "cv_lg=cross_validate(lg,x_sc,y,cv=5,scoring={'r2'},return_estimator=True,return_train_score=True)\n",
    "cv_lasso=cross_validate(estimator=lasso,X=x_sc,y=y,cv=kf, return_estimator=True,\n",
    "                        scoring={'r2'})\n",
    "cv_ridge=cross_validate(estimator=ridge,X=x_sc,y=y,cv=kf, return_estimator=True,\n",
    "                        scoring={'r2'})"
   ]
  },
  {
   "cell_type": "code",
   "execution_count": 55,
   "metadata": {},
   "outputs": [
    {
     "data": {
      "text/plain": [
       "0.5603568170878443"
      ]
     },
     "execution_count": 55,
     "metadata": {},
     "output_type": "execute_result"
    }
   ],
   "source": [
    "cv_knn['test_r2'].mean()"
   ]
  },
  {
   "cell_type": "code",
   "execution_count": 56,
   "metadata": {},
   "outputs": [
    {
     "data": {
      "text/plain": [
       "0.7456852050538061"
      ]
     },
     "execution_count": 56,
     "metadata": {},
     "output_type": "execute_result"
    }
   ],
   "source": [
    "cv_lg['test_r2'].mean()"
   ]
  },
  {
   "cell_type": "code",
   "execution_count": 57,
   "metadata": {},
   "outputs": [
    {
     "data": {
      "text/plain": [
       "0.7465164777569122"
      ]
     },
     "execution_count": 57,
     "metadata": {},
     "output_type": "execute_result"
    }
   ],
   "source": [
    "cv_lasso['test_r2'].mean()"
   ]
  },
  {
   "cell_type": "code",
   "execution_count": 58,
   "metadata": {},
   "outputs": [
    {
     "data": {
      "text/plain": [
       "0.7465198393605226"
      ]
     },
     "execution_count": 58,
     "metadata": {},
     "output_type": "execute_result"
    }
   ],
   "source": [
    "cv_ridge['test_r2'].mean()"
   ]
  },
  {
   "cell_type": "code",
   "execution_count": null,
   "metadata": {},
   "outputs": [],
   "source": [
    "#at this point I have decdided to use ridge regression for my model because it generated the highest mean r2 score among\n",
    "#the four models. I am simply choosing the model with the highest mean r2 score because all I care about for this \n",
    "#analysis is predicting the target variable.\n",
    "#the ridge regression model explaines 74.65% of the variability in the data set."
   ]
  },
  {
   "cell_type": "code",
   "execution_count": 37,
   "metadata": {},
   "outputs": [],
   "source": [
    "param_alpha=np.arange(0.0001,10,0.1)\n",
    "kf=KFold(n_splits=5,shuffle=True, random_state=101)"
   ]
  },
  {
   "cell_type": "code",
   "execution_count": 38,
   "metadata": {},
   "outputs": [],
   "source": [
    "r2_lasso,r2_ridge=[],[]\n",
    "\n",
    "for param in param_alpha:\n",
    "    lasso=Lasso(alpha=param)\n",
    "    ridge=Ridge(alpha=param)\n",
    "    \n",
    "    r2_lasso.append(cv_lasso['test_r2'].mean())\n",
    "    r2_ridge.append(cv_ridge['test_r2'].mean())\n",
    "    "
   ]
  },
  {
   "cell_type": "code",
   "execution_count": 39,
   "metadata": {},
   "outputs": [
    {
     "data": {
      "image/png": "[encoded data removed]",
      "text/plain": [
       "<Figure size 576x432 with 1 Axes>"
      ]
     },
     "metadata": {},
     "output_type": "display_data"
    }
   ],
   "source": [
    "sns.set_style('whitegrid')\n",
    "fig=plt.figure(figsize=(8,6))\n",
    "\n",
    "axes=fig.add_axes([0,0,1,1])\n",
    "\n",
    "axes.plot(param_alpha,r2_lasso, linestyle='-.',lw=1.5,label='Lasso')\n",
    "axes.plot(param_alpha,r2_ridge,ls='--',lw=1.5,label='Ridge')\n",
    "\n",
    "axes.set_xlabel(\"Alpha\",fontsize=14)\n",
    "axes.set_ylabel(\"Mean R2 Score from CV\",fontsize=14)\n",
    "\n",
    "plt.legend(fontsize=12)\n",
    "plt.show()"
   ]
  },
  {
   "cell_type": "code",
   "execution_count": 40,
   "metadata": {},
   "outputs": [
    {
     "data": {
      "text/html": [
       "<div>\n",
       "<style scoped>\n",
       "    .dataframe tbody tr th:only-of-type {\n",
       "        vertical-align: middle;\n",
       "    }\n",
       "\n",
       "    .dataframe tbody tr th {\n",
       "        vertical-align: top;\n",
       "    }\n",
       "\n",
       "    .dataframe thead th {\n",
       "        text-align: right;\n",
       "    }\n",
       "</style>\n",
       "<table border=\"1\" class=\"dataframe\">\n",
       "  <thead>\n",
       "    <tr style=\"text-align: right;\">\n",
       "      <th></th>\n",
       "      <th>age</th>\n",
       "      <th>sex</th>\n",
       "      <th>bmi</th>\n",
       "      <th>children</th>\n",
       "      <th>smoker</th>\n",
       "      <th>region_northeast</th>\n",
       "      <th>region_northwest</th>\n",
       "      <th>region_southeast</th>\n",
       "      <th>region_southwest</th>\n",
       "    </tr>\n",
       "  </thead>\n",
       "  <tbody>\n",
       "    <tr>\n",
       "      <td>0</td>\n",
       "      <td>59</td>\n",
       "      <td>1</td>\n",
       "      <td>26.400</td>\n",
       "      <td>0</td>\n",
       "      <td>0</td>\n",
       "      <td>0</td>\n",
       "      <td>0</td>\n",
       "      <td>1</td>\n",
       "      <td>0</td>\n",
       "    </tr>\n",
       "    <tr>\n",
       "      <td>1</td>\n",
       "      <td>59</td>\n",
       "      <td>0</td>\n",
       "      <td>31.350</td>\n",
       "      <td>0</td>\n",
       "      <td>0</td>\n",
       "      <td>0</td>\n",
       "      <td>1</td>\n",
       "      <td>0</td>\n",
       "      <td>0</td>\n",
       "    </tr>\n",
       "    <tr>\n",
       "      <td>2</td>\n",
       "      <td>52</td>\n",
       "      <td>0</td>\n",
       "      <td>37.400</td>\n",
       "      <td>0</td>\n",
       "      <td>0</td>\n",
       "      <td>0</td>\n",
       "      <td>0</td>\n",
       "      <td>0</td>\n",
       "      <td>1</td>\n",
       "    </tr>\n",
       "    <tr>\n",
       "      <td>3</td>\n",
       "      <td>46</td>\n",
       "      <td>1</td>\n",
       "      <td>33.345</td>\n",
       "      <td>1</td>\n",
       "      <td>0</td>\n",
       "      <td>1</td>\n",
       "      <td>0</td>\n",
       "      <td>0</td>\n",
       "      <td>0</td>\n",
       "    </tr>\n",
       "    <tr>\n",
       "      <td>4</td>\n",
       "      <td>19</td>\n",
       "      <td>0</td>\n",
       "      <td>28.900</td>\n",
       "      <td>0</td>\n",
       "      <td>0</td>\n",
       "      <td>0</td>\n",
       "      <td>0</td>\n",
       "      <td>0</td>\n",
       "      <td>1</td>\n",
       "    </tr>\n",
       "  </tbody>\n",
       "</table>\n",
       "</div>"
      ],
      "text/plain": [
       "   age  sex     bmi  children  smoker  region_northeast  region_northwest  \\\n",
       "0   59    1  26.400         0       0                 0                 0   \n",
       "1   59    0  31.350         0       0                 0                 1   \n",
       "2   52    0  37.400         0       0                 0                 0   \n",
       "3   46    1  33.345         1       0                 1                 0   \n",
       "4   19    0  28.900         0       0                 0                 0   \n",
       "\n",
       "   region_southeast  region_southwest  \n",
       "0                 1                 0  \n",
       "1                 0                 0  \n",
       "2                 0                 1  \n",
       "3                 0                 0  \n",
       "4                 0                 1  "
      ]
     },
     "execution_count": 40,
     "metadata": {},
     "output_type": "execute_result"
    }
   ],
   "source": [
    "df_test.head()"
   ]
  },
  {
   "cell_type": "code",
   "execution_count": 59,
   "metadata": {},
   "outputs": [],
   "source": [
    "model=Ridge(alpha=1.25)"
   ]
  },
  {
   "cell_type": "code",
   "execution_count": 60,
   "metadata": {},
   "outputs": [
    {
     "data": {
      "text/plain": [
       "Ridge(alpha=1.25, copy_X=True, fit_intercept=True, max_iter=None,\n",
       "      normalize=False, random_state=None, solver='auto', tol=0.001)"
      ]
     },
     "execution_count": 60,
     "metadata": {},
     "output_type": "execute_result"
    }
   ],
   "source": [
    "model.fit(x_sc,y)"
   ]
  },
  {
   "cell_type": "code",
   "execution_count": 61,
   "metadata": {},
   "outputs": [],
   "source": [
    "x_test=(df_test-mean)/std"
   ]
  },
  {
   "cell_type": "code",
   "execution_count": 62,
   "metadata": {},
   "outputs": [],
   "source": [
    "pred=model.predict(x_test)"
   ]
  },
  {
   "cell_type": "code",
   "execution_count": 67,
   "metadata": {},
   "outputs": [],
   "source": [
    "df_pred=pd.DataFrame(pred,columns=['predicted charges'])"
   ]
  },
  {
   "cell_type": "code",
   "execution_count": 68,
   "metadata": {},
   "outputs": [
    {
     "data": {
      "text/html": [
       "<div>\n",
       "<style scoped>\n",
       "    .dataframe tbody tr th:only-of-type {\n",
       "        vertical-align: middle;\n",
       "    }\n",
       "\n",
       "    .dataframe tbody tr th {\n",
       "        vertical-align: top;\n",
       "    }\n",
       "\n",
       "    .dataframe thead th {\n",
       "        text-align: right;\n",
       "    }\n",
       "</style>\n",
       "<table border=\"1\" class=\"dataframe\">\n",
       "  <thead>\n",
       "    <tr style=\"text-align: right;\">\n",
       "      <th></th>\n",
       "      <th>predicted charges</th>\n",
       "    </tr>\n",
       "  </thead>\n",
       "  <tbody>\n",
       "    <tr>\n",
       "      <td>0</td>\n",
       "      <td>10226.521847</td>\n",
       "    </tr>\n",
       "    <tr>\n",
       "      <td>1</td>\n",
       "      <td>13347.853377</td>\n",
       "    </tr>\n",
       "    <tr>\n",
       "      <td>2</td>\n",
       "      <td>13142.793687</td>\n",
       "    </tr>\n",
       "    <tr>\n",
       "      <td>3</td>\n",
       "      <td>11754.338669</td>\n",
       "    </tr>\n",
       "    <tr>\n",
       "      <td>4</td>\n",
       "      <td>1675.577913</td>\n",
       "    </tr>\n",
       "  </tbody>\n",
       "</table>\n",
       "</div>"
      ],
      "text/plain": [
       "   predicted charges\n",
       "0       10226.521847\n",
       "1       13347.853377\n",
       "2       13142.793687\n",
       "3       11754.338669\n",
       "4        1675.577913"
      ]
     },
     "execution_count": 68,
     "metadata": {},
     "output_type": "execute_result"
    }
   ],
   "source": [
    "df_pred.head()"
   ]
  },
  {
   "cell_type": "code",
   "execution_count": 69,
   "metadata": {},
   "outputs": [],
   "source": [
    "df_pred.to_excel('mini project 1_predicted charges_ray.xlsx')"
   ]
  },
  {
   "cell_type": "code",
   "execution_count": null,
   "metadata": {},
   "outputs": [],
   "source": []
  }
 ],
 "metadata": {
  "kernelspec": {
   "display_name": "Python 3",
   "language": "python",
   "name": "python3"
  },
  "language_info": {
   "codemirror_mode": {
    "name": "ipython",
    "version": 3
   },
   "file_extension": ".py",
   "mimetype": "text/x-python",
   "name": "python",
   "nbconvert_exporter": "python",
   "pygments_lexer": "ipython3",
   "version": "3.7.4"
  }
 },
 "nbformat": 4,
 "nbformat_minor": 2
}
